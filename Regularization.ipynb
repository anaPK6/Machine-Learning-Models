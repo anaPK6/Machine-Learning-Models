{
  "cells": [
    {
      "cell_type": "code",
      "execution_count": null,
      "metadata": {
        "ExecuteTime": {
          "end_time": "2023-01-29T07:28:21.569256Z",
          "start_time": "2023-01-29T07:28:19.531816Z"
        },
        "id": "RQy7mv-jPcs_"
      },
      "outputs": [],
      "source": [
        "import numpy as np # linear algebra\n",
        "import pandas as pd # data processing, CSV file I/O (e.g. pd.read_csv)\n",
        "import matplotlib.pyplot as plt\n",
        "import seaborn as sns\n",
        "%matplotlib inline\n",
        "\n",
        "from sklearn.model_selection import GridSearchCV\n",
        "from sklearn.pipeline import Pipeline\n",
        "\n",
        "from sklearn.preprocessing import StandardScaler,MinMaxScaler\n",
        "from sklearn.impute import SimpleImputer\n",
        "\n",
        "\n",
        "from sklearn.preprocessing import OneHotEncoder\n",
        "from sklearn.compose import ColumnTransformer\n",
        "from sklearn.metrics import mean_squared_error\n"
      ]
    },
    {
      "cell_type": "code",
      "execution_count": null,
      "metadata": {
        "ExecuteTime": {
          "end_time": "2023-01-29T07:28:21.575230Z",
          "start_time": "2023-01-29T07:28:21.571230Z"
        },
        "id": "PbMGuv-LPctB"
      },
      "outputs": [],
      "source": [
        "from __future__ import print_function\n",
        "import warnings\n",
        "warnings.filterwarnings(\"ignore\")"
      ]
    },
    {
      "cell_type": "code",
      "execution_count": null,
      "metadata": {
        "id": "_12HXCQVPctC"
      },
      "outputs": [],
      "source": [
        "### Read the data"
      ]
    },
    {
      "cell_type": "code",
      "execution_count": null,
      "metadata": {
        "ExecuteTime": {
          "end_time": "2023-01-29T08:43:31.771354Z",
          "start_time": "2023-01-29T08:43:31.724327Z"
        },
        "id": "DNG8j-JZPctC"
      },
      "outputs": [],
      "source": [
        "train = pd.read_csv('C:\\\\Prasanna\\\\Anagha\\\\Regularization\\\\train.csv')\n",
        "X_test = pd.read_csv('C:\\\\Prasanna\\\\Anagha\\\\Regularization\\\\test.csv')"
      ]
    },
    {
      "cell_type": "code",
      "execution_count": null,
      "metadata": {
        "ExecuteTime": {
          "end_time": "2023-01-29T08:43:31.945321Z",
          "start_time": "2023-01-29T08:43:31.931323Z"
        },
        "id": "M-NYphq1PctC"
      },
      "outputs": [],
      "source": [
        "## split into Training and test"
      ]
    },
    {
      "cell_type": "code",
      "execution_count": null,
      "metadata": {
        "ExecuteTime": {
          "end_time": "2023-01-29T09:39:54.924928Z",
          "start_time": "2023-01-29T09:39:54.905519Z"
        },
        "id": "ftFK2-x6PctD"
      },
      "outputs": [],
      "source": [
        "from sklearn.model_selection import train_test_split\n",
        "\n",
        "X = train.drop('SalePrice', axis=1)\n",
        "y = train.SalePrice\n",
        "\n",
        "X_train, X_valid, y_train, y_valid = train_test_split(X, y, test_size=.3, random_state=1121218)"
      ]
    },
    {
      "cell_type": "code",
      "execution_count": null,
      "metadata": {
        "ExecuteTime": {
          "end_time": "2023-01-29T09:39:55.144742Z",
          "start_time": "2023-01-29T09:39:55.129782Z"
        },
        "id": "TgiIYciFPctD"
      },
      "outputs": [],
      "source": [
        "## Numerical and categorical feature seperation"
      ]
    },
    {
      "cell_type": "code",
      "execution_count": null,
      "metadata": {
        "ExecuteTime": {
          "end_time": "2023-01-29T09:39:55.382380Z",
          "start_time": "2023-01-29T09:39:55.371369Z"
        },
        "id": "TrWnUUq_PctD",
        "outputId": "cee8fc9a-9ba7-4d44-dff4-29e5f93a7ee9"
      },
      "outputs": [
        {
          "name": "stdout",
          "output_type": "stream",
          "text": [
            "There are 37 numerical features: \n",
            "\n",
            "['Id', 'MSSubClass', 'LotFrontage', 'LotArea', 'OverallQual', 'OverallCond', 'YearBuilt', 'YearRemodAdd', 'MasVnrArea', 'BsmtFinSF1', 'BsmtFinSF2', 'BsmtUnfSF', 'TotalBsmtSF', '1stFlrSF', '2ndFlrSF', 'LowQualFinSF', 'GrLivArea', 'BsmtFullBath', 'BsmtHalfBath', 'FullBath', 'HalfBath', 'BedroomAbvGr', 'KitchenAbvGr', 'TotRmsAbvGrd', 'Fireplaces', 'GarageYrBlt', 'GarageCars', 'GarageArea', 'WoodDeckSF', 'OpenPorchSF', 'EnclosedPorch', '3SsnPorch', 'ScreenPorch', 'PoolArea', 'MiscVal', 'MoSold', 'YrSold']\n",
            "There are 43 categorical features: \n",
            "\n",
            "['MSZoning', 'Street', 'Alley', 'LotShape', 'LandContour', 'Utilities', 'LotConfig', 'LandSlope', 'Neighborhood', 'Condition1', 'Condition2', 'BldgType', 'HouseStyle', 'RoofStyle', 'RoofMatl', 'Exterior1st', 'Exterior2nd', 'MasVnrType', 'ExterQual', 'ExterCond', 'Foundation', 'BsmtQual', 'BsmtCond', 'BsmtExposure', 'BsmtFinType1', 'BsmtFinType2', 'Heating', 'HeatingQC', 'CentralAir', 'Electrical', 'KitchenQual', 'Functional', 'FireplaceQu', 'GarageType', 'GarageFinish', 'GarageQual', 'GarageCond', 'PavedDrive', 'PoolQC', 'Fence', 'MiscFeature', 'SaleType', 'SaleCondition']\n"
          ]
        }
      ],
      "source": [
        "numerical_features = X_train.select_dtypes(include='number').columns.tolist()\n",
        "print(f'There are {len(numerical_features)} numerical features:', '\\n')\n",
        "print(numerical_features)\n",
        "\n",
        "categorical_features = X_train.select_dtypes(exclude='number').columns.tolist()\n",
        "print(f'There are {len(categorical_features)} categorical features:', '\\n')\n",
        "print(categorical_features)"
      ]
    },
    {
      "cell_type": "code",
      "execution_count": null,
      "metadata": {
        "ExecuteTime": {
          "end_time": "2023-01-29T09:39:56.079727Z",
          "start_time": "2023-01-29T09:39:56.057733Z"
        },
        "id": "5zhaj-RpPctE"
      },
      "outputs": [],
      "source": [
        "## Using sklearn pipeline , compute missing value with mean, scale using minmax and convert categorical into OHE"
      ]
    },
    {
      "cell_type": "code",
      "execution_count": null,
      "metadata": {
        "ExecuteTime": {
          "end_time": "2023-01-29T09:39:56.768529Z",
          "start_time": "2023-01-29T09:39:56.753554Z"
        },
        "id": "yTZ1F0wNPctE"
      },
      "outputs": [],
      "source": [
        "numeric_pipeline = Pipeline(steps=[\n",
        "    ('impute', SimpleImputer(strategy='mean')),\n",
        "    ('scale', MinMaxScaler())\n",
        "])\n",
        "\n",
        "categorical_pipeline = Pipeline(steps=[\n",
        "    ('impute', SimpleImputer(strategy='most_frequent')),\n",
        "    ('one-hot', OneHotEncoder(handle_unknown='ignore', sparse=False))\n",
        "])"
      ]
    },
    {
      "cell_type": "code",
      "execution_count": null,
      "metadata": {
        "ExecuteTime": {
          "end_time": "2023-01-29T09:39:56.971388Z",
          "start_time": "2023-01-29T09:39:56.960380Z"
        },
        "id": "HGCmMxryPctF"
      },
      "outputs": [],
      "source": [
        "## Combine numeric and categorical using column transformer"
      ]
    },
    {
      "cell_type": "code",
      "execution_count": null,
      "metadata": {
        "ExecuteTime": {
          "end_time": "2023-01-29T09:39:57.490132Z",
          "start_time": "2023-01-29T09:39:57.481134Z"
        },
        "id": "p_59qCcVPctF"
      },
      "outputs": [],
      "source": [
        "from sklearn.compose import ColumnTransformer\n",
        "\n",
        "full_processor = ColumnTransformer(transformers=[\n",
        "    ('number', numeric_pipeline, numerical_features),\n",
        "    ('category', categorical_pipeline, categorical_features)\n",
        "])"
      ]
    },
    {
      "cell_type": "code",
      "execution_count": null,
      "metadata": {
        "ExecuteTime": {
          "end_time": "2023-01-29T09:39:58.134701Z",
          "start_time": "2023-01-29T09:39:58.121696Z"
        },
        "id": "bt0f5S10PctF"
      },
      "outputs": [],
      "source": [
        "## Create LinearRegression , Lasso, Ridge and elasticnet pipelines"
      ]
    },
    {
      "cell_type": "code",
      "execution_count": null,
      "metadata": {
        "ExecuteTime": {
          "end_time": "2023-01-29T09:39:59.070924Z",
          "start_time": "2023-01-29T09:39:59.064924Z"
        },
        "id": "3fcegmu6PctF"
      },
      "outputs": [],
      "source": [
        "from sklearn.linear_model import Lasso,Ridge,ElasticNet\n",
        "from sklearn.linear_model import LinearRegression\n",
        "from sklearn.metrics import mean_absolute_error\n",
        "\n",
        "ols_pipeline= Pipeline(steps=[\n",
        "    ('preprocess', full_processor),\n",
        "    ('model', LinearRegression())\n",
        "])\n",
        "\n",
        "\n",
        "lasso_pipeline = Pipeline(steps=[\n",
        "    ('preprocess', full_processor),\n",
        "    ('model', Lasso())\n",
        "])\n",
        "\n",
        "\n",
        "\n",
        "Ridge_pipeline = Pipeline(steps=[\n",
        "    ('preprocess', full_processor),\n",
        "    ('model', Ridge())\n",
        "])\n",
        "\n",
        "\n",
        "\n",
        "ElasticNet_pipeline = Pipeline(steps=[\n",
        "    ('preprocess', full_processor),\n",
        "    ('model', ElasticNet())\n",
        "])"
      ]
    },
    {
      "cell_type": "code",
      "execution_count": null,
      "metadata": {
        "ExecuteTime": {
          "end_time": "2023-01-29T09:39:59.840244Z",
          "start_time": "2023-01-29T09:39:59.825237Z"
        },
        "id": "Dp-FS5xIPctG"
      },
      "outputs": [],
      "source": [
        "### Use grid search for finding repective optimum lambda\n",
        "### elastic net==> l1_ratio    { 1==> lasso\n",
        "###                              0==> Ridge}\n",
        "###                     alpha==> penalty"
      ]
    },
    {
      "cell_type": "code",
      "execution_count": null,
      "metadata": {
        "ExecuteTime": {
          "end_time": "2023-01-29T09:40:42.361098Z",
          "start_time": "2023-01-29T09:40:13.009882Z"
        },
        "id": "ZsQRXRKkPctG"
      },
      "outputs": [],
      "source": [
        "from sklearn.model_selection import GridSearchCV\n",
        "\n",
        "param_dict = {'model__alpha': np.arange(1,2000,10)}\n",
        "\n",
        "lasso_search = GridSearchCV(lasso_pipeline, param_dict,\n",
        "                      cv=3,\n",
        "                      scoring='neg_mean_absolute_error')\n",
        "lasso_model = lasso_search.fit(X_train, y_train)\n"
      ]
    },
    {
      "cell_type": "code",
      "execution_count": null,
      "metadata": {
        "ExecuteTime": {
          "end_time": "2023-01-29T09:40:42.377202Z",
          "start_time": "2023-01-29T09:40:42.362854Z"
        },
        "id": "EfyqntlVPctH",
        "outputId": "233cbdad-bdfe-4fe3-9408-62be7bd2b61a"
      },
      "outputs": [
        {
          "name": "stdout",
          "output_type": "stream",
          "text": [
            "Lasso Best score: 16477.296178859906\n"
          ]
        }
      ],
      "source": [
        "print('Lasso Best score:', abs(lasso_search.best_score_))\n"
      ]
    },
    {
      "cell_type": "code",
      "execution_count": null,
      "metadata": {
        "ExecuteTime": {
          "end_time": "2023-01-29T08:44:35.601309Z",
          "start_time": "2023-01-29T08:44:09.440066Z"
        },
        "id": "xDL8F3LPPctH"
      },
      "outputs": [],
      "source": [
        "Ridge_search = GridSearchCV(Ridge_pipeline, param_dict,\n",
        "                      cv=3,\n",
        "                      scoring='neg_mean_absolute_error')\n",
        "Ridge_model = Ridge_search.fit(X_train, y_train)\n",
        "\n",
        ""
      ]
    },
    {
      "cell_type": "code",
      "execution_count": null,
      "metadata": {
        "ExecuteTime": {
          "end_time": "2023-01-29T08:44:35.617320Z",
          "start_time": "2023-01-29T08:44:35.602202Z"
        },
        "id": "b4LNqJ1PPctH",
        "outputId": "4fe47bd5-b947-49a9-befd-b55f632837c9"
      },
      "outputs": [
        {
          "name": "stdout",
          "output_type": "stream",
          "text": [
            "Ridge Best score: 17751.500325108005\n"
          ]
        }
      ],
      "source": [
        "print('Ridge Best score:', abs(Ridge_search.best_score_))"
      ]
    },
    {
      "cell_type": "code",
      "execution_count": null,
      "metadata": {
        "ExecuteTime": {
          "end_time": "2023-01-29T08:46:48.055639Z",
          "start_time": "2023-01-29T08:44:35.618527Z"
        },
        "id": "zCzBy1d_PctH"
      },
      "outputs": [],
      "source": [
        "param_dict = {'model__alpha': [1e-5,1.0, 10.0, 100.0,200,300,1000] ,\n",
        "              'model__l1_ratio': np.arange(0, 1, 0.01)}\n",
        "elastic_search = GridSearchCV(ElasticNet_pipeline, param_dict,\n",
        "                      cv=3,\n",
        "                      scoring='neg_mean_absolute_error')\n",
        "elastic_model = elastic_search.fit(X_train, y_train)\n"
      ]
    },
    {
      "cell_type": "code",
      "execution_count": null,
      "metadata": {
        "ExecuteTime": {
          "end_time": "2023-01-29T08:46:48.071569Z",
          "start_time": "2023-01-29T08:46:48.057529Z"
        },
        "id": "jVybZHTVPctH",
        "outputId": "fde09c13-0f78-4ecc-9700-24160b6c8a0a"
      },
      "outputs": [
        {
          "name": "stdout",
          "output_type": "stream",
          "text": [
            "elastic Best score: 17434.49415187335\n"
          ]
        }
      ],
      "source": [
        "print('elastic Best score:', abs(elastic_model.best_score_))"
      ]
    },
    {
      "cell_type": "code",
      "execution_count": null,
      "metadata": {
        "ExecuteTime": {
          "end_time": "2023-01-29T09:16:19.501428Z",
          "start_time": "2023-01-29T09:16:19.382256Z"
        },
        "id": "rUldW1yKPctH"
      },
      "outputs": [],
      "source": [
        "ols_model=ols_pipeline.fit(X_train, y_train)"
      ]
    },
    {
      "cell_type": "code",
      "execution_count": null,
      "metadata": {
        "ExecuteTime": {
          "end_time": "2023-01-31T06:13:46.322788Z",
          "start_time": "2023-01-31T06:13:46.123793Z"
        },
        "id": "XaObAn7ZPctH",
        "outputId": "d95119c8-6d4c-4e32-cc3f-1a34dec602f4"
      },
      "outputs": [
        {
          "ename": "AttributeError",
          "evalue": "'Lasso' object has no attribute 'best_estimator_'",
          "output_type": "error",
          "traceback": [
            "\u001b[1;31m---------------------------------------------------------------------------\u001b[0m",
            "\u001b[1;31mAttributeError\u001b[0m                            Traceback (most recent call last)",
            "\u001b[1;32m<ipython-input-282-707bcd812e8f>\u001b[0m in \u001b[0;36m<module>\u001b[1;34m\u001b[0m\n\u001b[1;32m----> 1\u001b[1;33m \u001b[0mprint\u001b[0m\u001b[1;33m(\u001b[0m\u001b[0mlasso_model\u001b[0m\u001b[1;33m.\u001b[0m\u001b[0mbest_estimator_\u001b[0m\u001b[1;33m[\u001b[0m\u001b[1;36m1\u001b[0m\u001b[1;33m]\u001b[0m\u001b[1;33m)\u001b[0m\u001b[1;33m\u001b[0m\u001b[1;33m\u001b[0m\u001b[0m\n\u001b[0m\u001b[0;32m      2\u001b[0m \u001b[0mprint\u001b[0m\u001b[1;33m(\u001b[0m\u001b[0mRidge_model\u001b[0m\u001b[1;33m.\u001b[0m\u001b[0mbest_estimator_\u001b[0m\u001b[1;33m[\u001b[0m\u001b[1;36m1\u001b[0m\u001b[1;33m]\u001b[0m\u001b[1;33m)\u001b[0m\u001b[1;33m\u001b[0m\u001b[1;33m\u001b[0m\u001b[0m\n\u001b[0;32m      3\u001b[0m \u001b[0mprint\u001b[0m\u001b[1;33m(\u001b[0m\u001b[0melastic_model\u001b[0m\u001b[1;33m.\u001b[0m\u001b[0mbest_estimator_\u001b[0m\u001b[1;33m[\u001b[0m\u001b[1;36m1\u001b[0m\u001b[1;33m]\u001b[0m\u001b[1;33m)\u001b[0m\u001b[1;33m\u001b[0m\u001b[1;33m\u001b[0m\u001b[0m\n",
            "\u001b[1;31mAttributeError\u001b[0m: 'Lasso' object has no attribute 'best_estimator_'"
          ]
        }
      ],
      "source": [
        "print(lasso_model.best_estimator_[1])\n",
        "print(Ridge_model.best_estimator_[1])\n",
        "print(elastic_model.best_estimator_[1])"
      ]
    },
    {
      "cell_type": "code",
      "execution_count": null,
      "metadata": {
        "id": "lgzlOcIDPctI"
      },
      "outputs": [],
      "source": [
        "### Choose beat parameters to rerun the regressions to get best fit"
      ]
    },
    {
      "cell_type": "code",
      "execution_count": null,
      "metadata": {
        "ExecuteTime": {
          "end_time": "2023-01-29T09:43:29.499951Z",
          "start_time": "2023-01-29T09:43:29.488955Z"
        },
        "id": "CxceIYzbPctI"
      },
      "outputs": [],
      "source": [
        "lasso_model=Lasso(alpha=1000, copy_X=True, fit_intercept=True, max_iter=1000,\n",
        "      normalize=False, positive=False, precompute=False, random_state=None,\n",
        "      selection='cyclic', tol=0.0001, warm_start=False)\n",
        "ridge_model=Ridge(alpha=11, copy_X=True, fit_intercept=True, max_iter=None,\n",
        "      normalize=False, random_state=None, solver='auto', tol=0.001)\n",
        "elastic_model=ElasticNet(alpha=1, copy_X=True, fit_intercept=True, l1_ratio=.9,\n",
        "           max_iter=1000, normalize=False, positive=False, precompute=False,\n",
        "           random_state=None, selection='cyclic', tol=0.0001, warm_start=False)\n",
        "\n",
        "lasso_pipeline = Pipeline(steps=[\n",
        "    ('preprocess', full_processor),\n",
        "    ('lasso', lasso_model)\n",
        "])\n",
        "\n",
        "\n",
        "ridge_pipeline = Pipeline(steps=[\n",
        "    ('preprocess', full_processor),\n",
        "    ('ridge', ridge_model)\n",
        "])\n",
        "\n",
        "\n",
        "elastic_pipeline = Pipeline(steps=[\n",
        "    ('preprocess', full_processor),\n",
        "    ('elastic', elastic_model)\n",
        "])\n"
      ]
    },
    {
      "cell_type": "code",
      "execution_count": null,
      "metadata": {
        "ExecuteTime": {
          "end_time": "2023-01-29T09:43:02.236025Z",
          "start_time": "2023-01-29T09:43:02.233050Z"
        },
        "id": "lx_OXf-HPctI"
      },
      "outputs": [],
      "source": [
        "from sklearn.metrics import mean_squared_error,mean_absolute_error"
      ]
    },
    {
      "cell_type": "code",
      "execution_count": null,
      "metadata": {
        "ExecuteTime": {
          "end_time": "2023-01-29T09:43:02.756385Z",
          "start_time": "2023-01-29T09:43:02.616064Z"
        },
        "id": "gIsKf28wPctI",
        "outputId": "74be1ad6-88ec-4fa2-fa74-ce84f415b18c"
      },
      "outputs": [
        {
          "name": "stdout",
          "output_type": "stream",
          "text": [
            "===ols====\n",
            "mse==> 3.665849810115942e+28\n",
            "mae==> 22937764183473.92\n",
            "R^2==> -5.164283426690424e+18\n"
          ]
        }
      ],
      "source": [
        "ols=ols_pipeline.fit(X_train, y_train)\n",
        "ols_pred=ols.predict(X_valid)\n",
        "print(\"===ols====\")\n",
        "print(\"mse==>\",mean_squared_error(y_valid,ols_pred))\n",
        "print(\"mae==>\",mean_absolute_error(y_valid,ols_pred))\n",
        "print(\"R^2==>\",ols.score(X_valid, y_valid))"
      ]
    },
    {
      "cell_type": "code",
      "execution_count": null,
      "metadata": {
        "ExecuteTime": {
          "end_time": "2023-01-29T09:41:08.416478Z",
          "start_time": "2023-01-29T09:41:08.336442Z"
        },
        "id": "uTN-XA_HPctI",
        "outputId": "486ba573-89c5-41aa-af96-584779b645e8"
      },
      "outputs": [
        {
          "name": "stdout",
          "output_type": "stream",
          "text": [
            "===lasso====\n",
            "mse==> 1604578591.933106\n",
            "mae==> 21526.83618180848\n",
            "R^2==> 0.773954224576366\n"
          ]
        }
      ],
      "source": [
        "lasso=lasso_pipeline.fit(X_train, y_train)\n",
        "lasso_pred=lasso.predict(X_valid)\n",
        "print(\"===lasso====\")\n",
        "print(\"mse==>\",mean_squared_error(y_valid,lasso_pred))\n",
        "print(\"mae==>\",mean_absolute_error(y_valid,lasso_pred))\n",
        "print(\"R^2==>\",lasso.score(X_valid, y_valid))"
      ]
    },
    {
      "cell_type": "code",
      "execution_count": null,
      "metadata": {
        "ExecuteTime": {
          "end_time": "2023-01-29T09:41:10.464783Z",
          "start_time": "2023-01-29T09:41:10.456816Z"
        },
        "id": "oibTTAs4PctJ",
        "outputId": "7a549e11-362c-4a3d-c761-3441ea809a9c"
      },
      "outputs": [
        {
          "name": "stdout",
          "output_type": "stream",
          "text": [
            "No: of Non zero coeficents 31\n"
          ]
        }
      ],
      "source": [
        "print(\"No: of Non zero coeficents\",len([col for col in  lasso_pipeline.named_steps['lasso'].coef_ if abs(col) > 0 ]))"
      ]
    },
    {
      "cell_type": "code",
      "execution_count": null,
      "metadata": {
        "ExecuteTime": {
          "end_time": "2023-01-29T09:26:58.917370Z",
          "start_time": "2023-01-29T09:26:58.836640Z"
        },
        "id": "s9_ZvwUiPctJ",
        "outputId": "f36173cf-dc9f-43cb-a9f2-46a9d280754c"
      },
      "outputs": [
        {
          "name": "stdout",
          "output_type": "stream",
          "text": [
            "===ridge====\n",
            "mse==> 1321488665.4952872\n",
            "mae==> 18693.778696102094\n",
            "R^2==> 0.7115488730461104\n"
          ]
        }
      ],
      "source": [
        "ridge=ridge_pipeline.fit(X_train, y_train)\n",
        "ridge_pred=ridge.predict(X_valid)\n",
        "print(\"===ridge====\")\n",
        "print(\"mse==>\",mean_squared_error(y_valid,ridge_pred))\n",
        "print(\"mae==>\",mean_absolute_error(y_valid,ridge_pred))\n",
        "print(\"R^2==>\",lasso.score(X_valid, y_valid))"
      ]
    },
    {
      "cell_type": "code",
      "execution_count": null,
      "metadata": {
        "ExecuteTime": {
          "end_time": "2023-01-29T08:48:53.110936Z",
          "start_time": "2023-01-29T08:48:53.091935Z"
        },
        "id": "0XCw_rvBPctJ",
        "outputId": "ec3b73a7-45fb-4cfb-acfd-ac1809ccd67f"
      },
      "outputs": [
        {
          "name": "stdout",
          "output_type": "stream",
          "text": [
            "No: of Non zero coeficents 281\n"
          ]
        }
      ],
      "source": [
        "print(\"No: of Non zero coeficents\",len([col for col in  ridge_pipeline.named_steps['ridge'].coef_ if abs(col) > 0 ]))"
      ]
    },
    {
      "cell_type": "code",
      "execution_count": null,
      "metadata": {
        "ExecuteTime": {
          "end_time": "2023-01-29T09:43:33.738893Z",
          "start_time": "2023-01-29T09:43:33.656572Z"
        },
        "id": "5CtiQ4TZPctJ",
        "outputId": "efb2a66c-25f9-4806-eba6-d71e80f9f563"
      },
      "outputs": [
        {
          "name": "stdout",
          "output_type": "stream",
          "text": [
            "===elasticnet====\n",
            "mse==> 1709489293.2334154\n",
            "mae==> 23623.86427839161\n",
            "R^2==> 0.7591748794293667\n"
          ]
        }
      ],
      "source": [
        "elasticnet=elastic_pipeline.fit(X_train, y_train)\n",
        "elasticnet_pred=elasticnet.predict(X_valid)\n",
        "print(\"===elasticnet====\")\n",
        "print(\"mse==>\",mean_squared_error(y_valid,elasticnet_pred))\n",
        "print(\"mae==>\",mean_absolute_error(y_valid,elasticnet_pred))\n",
        "print(\"R^2==>\",elasticnet.score(X_valid,y_valid))"
      ]
    },
    {
      "cell_type": "code",
      "execution_count": null,
      "metadata": {
        "ExecuteTime": {
          "end_time": "2023-01-29T09:43:34.129156Z",
          "start_time": "2023-01-29T09:43:34.120144Z"
        },
        "id": "SM0Ffm2KPctK",
        "outputId": "9d050489-908b-462f-f0c3-6ff5400fbde2"
      },
      "outputs": [
        {
          "name": "stdout",
          "output_type": "stream",
          "text": [
            "No: of Non zero coeficents 281\n"
          ]
        }
      ],
      "source": [
        "print(\"No: of Non zero coeficents\",len([col for col in  elastic_pipeline.named_steps['elastic'].coef_ if abs(col) > 0 ]))"
      ]
    },
    {
      "cell_type": "markdown",
      "metadata": {
        "id": "6m5dFbpTPctK"
      },
      "source": [
        "### The above results have demonstrated the fact that\n",
        "###  1)Lasso helps in feature reduction by penalizing unwanted features to zero\n",
        "###  2)Lasso regression helps in addressing  correlated features by shrinking one of the features selcted between the two\n",
        "### features to zero\n",
        "### 3)To get the best of Ridge and Lasso, elastic net addresses this by combining the advantages of lasso and ridge\n"
      ]
    },
    {
      "cell_type": "code",
      "execution_count": null,
      "metadata": {
        "ExecuteTime": {
          "end_time": "2023-01-29T16:13:47.416723Z",
          "start_time": "2023-01-29T16:13:47.403721Z"
        },
        "id": "4qtC_AHwPctL",
        "outputId": "18bea981-3184-453d-e76c-d6cf4c73da8b"
      },
      "outputs": [
        {
          "name": "stdout",
          "output_type": "stream",
          "text": [
            "[[ 4 11 14]\n",
            " [ 8  7 -2]]\n",
            "[[-0.9486833  -0.31622777]\n",
            " [-0.31622777  0.9486833 ]]\n",
            "[18.97366596  9.48683298]\n",
            "[[-0.33333333 -0.66666667 -0.66666667]\n",
            " [ 0.66666667  0.33333333 -0.66666667]\n",
            " [-0.66666667  0.66666667 -0.33333333]]\n"
          ]
        }
      ],
      "source": [
        "from numpy import array\n",
        "from scipy.linalg import svd\n",
        "# define a matrix\n",
        "A = array([[4,11,14],[8,7,-2]])\n",
        "print(A)\n",
        "# SVD\n",
        "U, s, VT = svd(A)\n",
        "print(U)\n",
        "print(s)\n",
        "print(VT)"
      ]
    },
    {
      "cell_type": "code",
      "execution_count": null,
      "metadata": {
        "ExecuteTime": {
          "end_time": "2023-01-29T16:14:03.947574Z",
          "start_time": "2023-01-29T16:14:03.930575Z"
        },
        "id": "gl9axgZ5PctL",
        "outputId": "79576631-d79c-4ebb-c305-e9976ed6d05d"
      },
      "outputs": [
        {
          "data": {
            "text/plain": [
              "array([[ 4, 11, 14],\n",
              "       [ 8,  7, -2]])"
            ]
          },
          "execution_count": 281,
          "metadata": {},
          "output_type": "execute_result"
        }
      ],
      "source": [
        "A"
      ]
    },
    {
      "cell_type": "code",
      "execution_count": null,
      "metadata": {
        "id": "hO8sZNC_PctL"
      },
      "outputs": [],
      "source": []
    }
  ],
  "metadata": {
    "kernelspec": {
      "display_name": "Python 3",
      "language": "python",
      "name": "python3"
    },
    "language_info": {
      "codemirror_mode": {
        "name": "ipython",
        "version": 3
      },
      "file_extension": ".py",
      "mimetype": "text/x-python",
      "name": "python",
      "nbconvert_exporter": "python",
      "pygments_lexer": "ipython3",
      "version": "3.8.5"
    },
    "colab": {
      "provenance": []
    }
  },
  "nbformat": 4,
  "nbformat_minor": 0
}