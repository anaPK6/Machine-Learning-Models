{
  "cells": [
    {
      "cell_type": "markdown",
      "metadata": {
        "id": "x5TTdyIoo3i7"
      },
      "source": [
        "# Creating a LlamaIndex RAG Pipeline with NL2SQL and Metadata Filtering!"
      ]
    },
    {
      "cell_type": "markdown",
      "metadata": {
        "id": "Msvju70DSV_8"
      },
      "source": [
        "## BOILERPLATE\n",
        "\n",
        "This is only relevant when running the code in a Jupyter Notebook."
      ]
    },
    {
      "cell_type": "code",
      "execution_count": null,
      "metadata": {
        "id": "7VF57GcmSV_9"
      },
      "outputs": [],
      "source": [
        "import nest_asyncio\n",
        "\n",
        "nest_asyncio.apply()\n",
        "\n",
        "import logging\n",
        "import sys\n",
        "\n",
        "logging.basicConfig(stream=sys.stdout, level=logging.INFO)\n",
        "logging.getLogger().addHandler(logging.StreamHandler(stream=sys.stdout))"
      ]
    },
    {
      "cell_type": "markdown",
      "metadata": {
        "id": "6zQBPs6zSV_9"
      },
      "source": [
        "## Load Dependencies"
      ]
    },
    {
      "cell_type": "markdown",
      "metadata": {
        "id": "WhEbxl3nSV_9"
      },
      "source": [
        "Let's grab our core `llama-index` library, as well as OpenAI's Python SDK.\n",
        "\n",
        "We'll be leveraging OpenAI's suite of APIs to power our RAG pipelines today.\n",
        "\n",
        "> NOTE: You can safely ignore any pip errors that occur during the running of these cells."
      ]
    },
    {
      "cell_type": "code",
      "execution_count": null,
      "metadata": {
        "colab": {
          "base_uri": "https://localhost:8080/"
        },
        "id": "b3oyvtl2SV_9",
        "outputId": "bca27a9b-2888-40d2-d9dc-f960f1b5d626"
      },
      "outputs": [
        {
          "output_type": "stream",
          "name": "stdout",
          "text": [
            "\u001b[2K     \u001b[90m━━━━━━━━━━━━━━━━━━━━━━━━━━━━━━━━━━━━━━━━\u001b[0m \u001b[32m337.0/337.0 kB\u001b[0m \u001b[31m4.0 MB/s\u001b[0m eta \u001b[36m0:00:00\u001b[0m\n",
            "\u001b[2K     \u001b[90m━━━━━━━━━━━━━━━━━━━━━━━━━━━━━━━━━━━━━━━━\u001b[0m \u001b[32m865.5/865.5 kB\u001b[0m \u001b[31m8.2 MB/s\u001b[0m eta \u001b[36m0:00:00\u001b[0m\n",
            "\u001b[2K     \u001b[90m━━━━━━━━━━━━━━━━━━━━━━━━━━━━━━━━━━━━━━━━\u001b[0m \u001b[32m15.5/15.5 MB\u001b[0m \u001b[31m28.4 MB/s\u001b[0m eta \u001b[36m0:00:00\u001b[0m\n",
            "\u001b[2K     \u001b[90m━━━━━━━━━━━━━━━━━━━━━━━━━━━━━━━━━━━━━━━━\u001b[0m \u001b[32m2.0/2.0 MB\u001b[0m \u001b[31m21.9 MB/s\u001b[0m eta \u001b[36m0:00:00\u001b[0m\n",
            "\u001b[2K     \u001b[90m━━━━━━━━━━━━━━━━━━━━━━━━━━━━━━━━━━━━━━━━\u001b[0m \u001b[32m75.6/75.6 kB\u001b[0m \u001b[31m2.8 MB/s\u001b[0m eta \u001b[36m0:00:00\u001b[0m\n",
            "\u001b[2K     \u001b[90m━━━━━━━━━━━━━━━━━━━━━━━━━━━━━━━━━━━━━━━━\u001b[0m \u001b[32m1.1/1.1 MB\u001b[0m \u001b[31m8.0 MB/s\u001b[0m eta \u001b[36m0:00:00\u001b[0m\n",
            "\u001b[2K     \u001b[90m━━━━━━━━━━━━━━━━━━━━━━━━━━━━━━━━━━━━━━━━\u001b[0m \u001b[32m318.9/318.9 kB\u001b[0m \u001b[31m5.4 MB/s\u001b[0m eta \u001b[36m0:00:00\u001b[0m\n",
            "\u001b[2K     \u001b[90m━━━━━━━━━━━━━━━━━━━━━━━━━━━━━━━━━━━━━━━━\u001b[0m \u001b[32m77.9/77.9 kB\u001b[0m \u001b[31m4.2 MB/s\u001b[0m eta \u001b[36m0:00:00\u001b[0m\n",
            "\u001b[2K     \u001b[90m━━━━━━━━━━━━━━━━━━━━━━━━━━━━━━━━━━━━━━━━\u001b[0m \u001b[32m58.3/58.3 kB\u001b[0m \u001b[31m4.5 MB/s\u001b[0m eta \u001b[36m0:00:00\u001b[0m\n",
            "\u001b[2K     \u001b[90m━━━━━━━━━━━━━━━━━━━━━━━━━━━━━━━━━━━━━━━━\u001b[0m \u001b[32m146.8/146.8 kB\u001b[0m \u001b[31m9.9 MB/s\u001b[0m eta \u001b[36m0:00:00\u001b[0m\n",
            "\u001b[2K     \u001b[90m━━━━━━━━━━━━━━━━━━━━━━━━━━━━━━━━━━━━━━━━\u001b[0m \u001b[32m295.8/295.8 kB\u001b[0m \u001b[31m15.6 MB/s\u001b[0m eta \u001b[36m0:00:00\u001b[0m\n",
            "\u001b[2K     \u001b[90m━━━━━━━━━━━━━━━━━━━━━━━━━━━━━━━━━━━━━━━━\u001b[0m \u001b[32m49.2/49.2 kB\u001b[0m \u001b[31m2.3 MB/s\u001b[0m eta \u001b[36m0:00:00\u001b[0m\n",
            "\u001b[?25h"
          ]
        }
      ],
      "source": [
        "!pip install -qU llama-index openai anthropic"
      ]
    },
    {
      "cell_type": "markdown",
      "metadata": {
        "id": "uqTXRTrLPatl"
      },
      "source": [
        "We'll be collecting our semantic data from Wikipedia - and so will need the [Wikipedia Reader](https://github.com/run-llama/llama_index/tree/main/llama-index-integrations/readers/llama-index-readers-wikipedia)!"
      ]
    },
    {
      "cell_type": "code",
      "execution_count": null,
      "metadata": {
        "colab": {
          "base_uri": "https://localhost:8080/"
        },
        "id": "f9kXf7pPSV_-",
        "outputId": "2df34406-4e8e-4046-89b0-8fd64b3ee652"
      },
      "outputs": [
        {
          "output_type": "stream",
          "name": "stdout",
          "text": [
            "  Preparing metadata (setup.py) ... \u001b[?25l\u001b[?25hdone\n",
            "  Building wheel for wikipedia (setup.py) ... \u001b[?25l\u001b[?25hdone\n"
          ]
        }
      ],
      "source": [
        "!pip install -qU wikipedia llama-index-readers-wikipedia"
      ]
    },
    {
      "cell_type": "markdown",
      "metadata": {
        "id": "Qq_rWHZEPrCO"
      },
      "source": [
        "Our vector database today will be powered by [QDrant](https://qdrant.tech/) and so we'll need that package as well!"
      ]
    },
    {
      "cell_type": "code",
      "execution_count": null,
      "metadata": {
        "colab": {
          "base_uri": "https://localhost:8080/"
        },
        "id": "iMCA8HFGEPF_",
        "outputId": "8340f4c3-7646-40c7-e9d2-b94eab5fbd2b"
      },
      "outputs": [
        {
          "output_type": "stream",
          "name": "stdout",
          "text": [
            "\u001b[2K     \u001b[90m━━━━━━━━━━━━━━━━━━━━━━━━━━━━━━━━━━━━━━━━\u001b[0m \u001b[32m254.1/254.1 kB\u001b[0m \u001b[31m5.3 MB/s\u001b[0m eta \u001b[36m0:00:00\u001b[0m\n",
            "\u001b[2K     \u001b[90m━━━━━━━━━━━━━━━━━━━━━━━━━━━━━━━━━━━━━━━━\u001b[0m \u001b[32m2.3/2.3 MB\u001b[0m \u001b[31m27.9 MB/s\u001b[0m eta \u001b[36m0:00:00\u001b[0m\n",
            "\u001b[2K     \u001b[90m━━━━━━━━━━━━━━━━━━━━━━━━━━━━━━━━━━━━━━━━\u001b[0m \u001b[32m309.3/309.3 kB\u001b[0m \u001b[31m20.1 MB/s\u001b[0m eta \u001b[36m0:00:00\u001b[0m\n",
            "\u001b[2K     \u001b[90m━━━━━━━━━━━━━━━━━━━━━━━━━━━━━━━━━━━━━━━━\u001b[0m \u001b[32m5.7/5.7 MB\u001b[0m \u001b[31m25.1 MB/s\u001b[0m eta \u001b[36m0:00:00\u001b[0m\n",
            "\u001b[2K     \u001b[90m━━━━━━━━━━━━━━━━━━━━━━━━━━━━━━━━━━━━━━━━\u001b[0m \u001b[32m57.5/57.5 kB\u001b[0m \u001b[31m2.7 MB/s\u001b[0m eta \u001b[36m0:00:00\u001b[0m\n",
            "\u001b[?25h\u001b[31mERROR: pip's dependency resolver does not currently take into account all the packages that are installed. This behaviour is the source of the following dependency conflicts.\n",
            "cudf-cu12 24.4.1 requires protobuf<5,>=3.20, but you have protobuf 5.27.2 which is incompatible.\n",
            "google-ai-generativelanguage 0.6.6 requires protobuf!=3.20.0,!=3.20.1,!=4.21.0,!=4.21.1,!=4.21.2,!=4.21.3,!=4.21.4,!=4.21.5,<5.0.0dev,>=3.19.5, but you have protobuf 5.27.2 which is incompatible.\n",
            "google-cloud-aiplatform 1.59.0 requires protobuf!=3.20.0,!=3.20.1,!=4.21.0,!=4.21.1,!=4.21.2,!=4.21.3,!=4.21.4,!=4.21.5,<5.0.0dev,>=3.19.5, but you have protobuf 5.27.2 which is incompatible.\n",
            "google-cloud-bigquery-storage 2.25.0 requires protobuf!=3.20.0,!=3.20.1,!=4.21.0,!=4.21.1,!=4.21.2,!=4.21.3,!=4.21.4,!=4.21.5,<5.0.0dev,>=3.19.5, but you have protobuf 5.27.2 which is incompatible.\n",
            "google-cloud-bigtable 2.24.0 requires protobuf!=3.20.0,!=3.20.1,!=4.21.0,!=4.21.1,!=4.21.2,!=4.21.3,!=4.21.4,!=4.21.5,<5.0.0dev,>=3.19.5, but you have protobuf 5.27.2 which is incompatible.\n",
            "google-cloud-datastore 2.19.0 requires protobuf!=3.20.0,!=3.20.1,!=4.21.0,!=4.21.1,!=4.21.2,!=4.21.3,!=4.21.4,!=4.21.5,<5.0.0dev,>=3.19.5, but you have protobuf 5.27.2 which is incompatible.\n",
            "google-cloud-firestore 2.16.1 requires protobuf!=3.20.0,!=3.20.1,!=4.21.0,!=4.21.1,!=4.21.2,!=4.21.3,!=4.21.4,!=4.21.5,<5.0.0dev,>=3.19.5, but you have protobuf 5.27.2 which is incompatible.\n",
            "tensorflow 2.15.0 requires protobuf!=4.21.0,!=4.21.1,!=4.21.2,!=4.21.3,!=4.21.4,!=4.21.5,<5.0.0dev,>=3.20.3, but you have protobuf 5.27.2 which is incompatible.\n",
            "tensorflow-metadata 1.15.0 requires protobuf<4.21,>=3.20.3; python_version < \"3.11\", but you have protobuf 5.27.2 which is incompatible.\u001b[0m\u001b[31m\n",
            "\u001b[0m"
          ]
        }
      ],
      "source": [
        "!pip install -qU llama-index-vector-stores-qdrant qdrant-client"
      ]
    },
    {
      "cell_type": "markdown",
      "metadata": {
        "id": "wNHDqna1P1NQ"
      },
      "source": [
        "Finally, we'll need to grab a few dependencies related to our quantitative data!"
      ]
    },
    {
      "cell_type": "code",
      "execution_count": null,
      "metadata": {
        "colab": {
          "base_uri": "https://localhost:8080/"
        },
        "id": "BrT8a3c0SV__",
        "outputId": "2c95272e-0249-4992-aade-dd0221048046"
      },
      "outputs": [
        {
          "output_type": "stream",
          "name": "stdout",
          "text": [
            "\u001b[2K     \u001b[90m━━━━━━━━━━━━━━━━━━━━━━━━━━━━━━━━━━━━━━━━\u001b[0m \u001b[32m13.0/13.0 MB\u001b[0m \u001b[31m20.9 MB/s\u001b[0m eta \u001b[36m0:00:00\u001b[0m\n",
            "\u001b[?25h\u001b[31mERROR: pip's dependency resolver does not currently take into account all the packages that are installed. This behaviour is the source of the following dependency conflicts.\n",
            "cudf-cu12 24.4.1 requires pandas<2.2.2dev0,>=2.0, but you have pandas 2.2.2 which is incompatible.\n",
            "cudf-cu12 24.4.1 requires protobuf<5,>=3.20, but you have protobuf 5.27.2 which is incompatible.\n",
            "google-colab 1.0.0 requires pandas==2.0.3, but you have pandas 2.2.2 which is incompatible.\u001b[0m\u001b[31m\n",
            "\u001b[0m"
          ]
        }
      ],
      "source": [
        "!pip install -q -U sqlalchemy pandas"
      ]
    },
    {
      "cell_type": "markdown",
      "metadata": {
        "id": "SS3I4FUabE-g"
      },
      "source": [
        "We'll can use [Weights and Biases](https://docs.wandb.ai/guides/prompts) (WandB) as a visibility platform, as well as storing our index!"
      ]
    },
    {
      "cell_type": "code",
      "execution_count": null,
      "metadata": {
        "colab": {
          "base_uri": "https://localhost:8080/"
        },
        "id": "9UcQpjG9Ovlk",
        "outputId": "a311d8d6-beb4-4a81-fe39-eb0be9b3a91f"
      },
      "outputs": [
        {
          "output_type": "stream",
          "name": "stdout",
          "text": [
            "\u001b[2K     \u001b[90m━━━━━━━━━━━━━━━━━━━━━━━━━━━━━━━━━━━━━━━━\u001b[0m \u001b[32m6.8/6.8 MB\u001b[0m \u001b[31m38.3 MB/s\u001b[0m eta \u001b[36m0:00:00\u001b[0m\n",
            "\u001b[2K     \u001b[90m━━━━━━━━━━━━━━━━━━━━━━━━━━━━━━━━━━━━━━━━\u001b[0m \u001b[32m207.3/207.3 kB\u001b[0m \u001b[31m7.9 MB/s\u001b[0m eta \u001b[36m0:00:00\u001b[0m\n",
            "\u001b[2K     \u001b[90m━━━━━━━━━━━━━━━━━━━━━━━━━━━━━━━━━━━━━━━━\u001b[0m \u001b[32m302.1/302.1 kB\u001b[0m \u001b[31m21.1 MB/s\u001b[0m eta \u001b[36m0:00:00\u001b[0m\n",
            "\u001b[2K     \u001b[90m━━━━━━━━━━━━━━━━━━━━━━━━━━━━━━━━━━━━━━━━\u001b[0m \u001b[32m2.2/2.2 MB\u001b[0m \u001b[31m39.0 MB/s\u001b[0m eta \u001b[36m0:00:00\u001b[0m\n",
            "\u001b[2K     \u001b[90m━━━━━━━━━━━━━━━━━━━━━━━━━━━━━━━━━━━━━━━━\u001b[0m \u001b[32m294.6/294.6 kB\u001b[0m \u001b[31m11.1 MB/s\u001b[0m eta \u001b[36m0:00:00\u001b[0m\n",
            "\u001b[2K     \u001b[90m━━━━━━━━━━━━━━━━━━━━━━━━━━━━━━━━━━━━━━━━\u001b[0m \u001b[32m62.7/62.7 kB\u001b[0m \u001b[31m4.8 MB/s\u001b[0m eta \u001b[36m0:00:00\u001b[0m\n",
            "\u001b[?25h\u001b[31mERROR: pip's dependency resolver does not currently take into account all the packages that are installed. This behaviour is the source of the following dependency conflicts.\n",
            "cudf-cu12 24.4.1 requires pandas<2.2.2dev0,>=2.0, but you have pandas 2.2.2 which is incompatible.\n",
            "grpcio-tools 1.65.1 requires protobuf<6.0dev,>=5.26.1, but you have protobuf 4.25.3 which is incompatible.\n",
            "tensorflow-metadata 1.15.0 requires protobuf<4.21,>=3.20.3; python_version < \"3.11\", but you have protobuf 4.25.3 which is incompatible.\u001b[0m\u001b[31m\n",
            "\u001b[0m"
          ]
        }
      ],
      "source": [
        "!pip install -qU wandb llama-index-callbacks-wandb"
      ]
    },
    {
      "cell_type": "code",
      "execution_count": null,
      "metadata": {
        "colab": {
          "base_uri": "https://localhost:8080/"
        },
        "id": "4OHSwkDySV_-",
        "outputId": "259b320b-9b29-41a3-c758-2ab2bcbbe5b2"
      },
      "outputs": [
        {
          "name": "stdout",
          "output_type": "stream",
          "text": [
            "WandB API Key: ··········\n"
          ]
        }
      ],
      "source": [
        "import os\n",
        "import getpass\n",
        "\n",
        "os.environ[\"WANDB_API_KEY\"] = getpass.getpass(\"WandB API Key: \")"
      ]
    },
    {
      "cell_type": "markdown",
      "metadata": {
        "id": "Ut8E447rQBjY"
      },
      "source": [
        "We'll also need to set a callback handler for WandB to ensure smooth operation of our traces!"
      ]
    },
    {
      "cell_type": "code",
      "execution_count": null,
      "metadata": {
        "colab": {
          "base_uri": "https://localhost:8080/",
          "height": 69
        },
        "id": "MoV2JINuSV_-",
        "outputId": "cb88803d-acbc-4ac0-ba7d-64d414559d0f"
      },
      "outputs": [
        {
          "output_type": "stream",
          "name": "stderr",
          "text": [
            "\u001b[34m\u001b[1mwandb\u001b[0m: Streaming LlamaIndex events to W&B at https://wandb.ai/hessianai/llama-index-rag-v1/runs/keef3k15\n",
            "\u001b[34m\u001b[1mwandb\u001b[0m: `WandbCallbackHandler` is currently in beta.\n",
            "\u001b[34m\u001b[1mwandb\u001b[0m: Please report any issues to https://github.com/wandb/wandb/issues with the tag `llamaindex`.\n"
          ]
        }
      ],
      "source": [
        "import llama_index\n",
        "from llama_index.core import set_global_handler\n",
        "\n",
        "set_global_handler(\"wandb\", run_args={\"project\": \"llama-index-rag-v1\"})\n",
        "wandb_callback = llama_index.core.global_handler"
      ]
    },
    {
      "cell_type": "markdown",
      "metadata": {
        "id": "ibtguieHP6n1"
      },
      "source": [
        "## Task 2: Set Env Variables and Set Up WandB Callback\n",
        "\n",
        "Let's set our API keys for both OpenAI and WandB!"
      ]
    },
    {
      "cell_type": "code",
      "execution_count": null,
      "metadata": {
        "colab": {
          "base_uri": "https://localhost:8080/"
        },
        "id": "7IBgMTPTSV_9",
        "outputId": "232a61de-eae7-4ab0-a5f5-82f86a0bf3e0"
      },
      "outputs": [
        {
          "name": "stdout",
          "output_type": "stream",
          "text": [
            "OpenAI API Key: ··········\n"
          ]
        }
      ],
      "source": [
        "import os\n",
        "import getpass\n",
        "\n",
        "os.environ[\"OPENAI_API_KEY\"] = getpass.getpass(\"OpenAI API Key: \")"
      ]
    },
    {
      "cell_type": "markdown",
      "metadata": {
        "id": "aTKRJ9FaA1U1"
      },
      "source": [
        "### OPTIONAL ADVANCED PATH:\n",
        "\n",
        "Instead of OpenAI - you could use Anthropic's new Claude model `Sonnet 3.5`!\n",
        "\n",
        "Let's see how the flow might be different if you wanted to use the latest and greatest from Anthropic!\n",
        "\n",
        "> NOTE: You will need an [API Key](https://www.anthropic.com/news/claude-3-5-sonnet) for `Sonnet 3.5` for the following cells to work!"
      ]
    },
    {
      "cell_type": "code",
      "execution_count": null,
      "metadata": {
        "colab": {
          "base_uri": "https://localhost:8080/"
        },
        "id": "tIC5feHeCN53",
        "outputId": "5553b182-dd13-4f5d-c934-4a35e8da74e2"
      },
      "outputs": [
        {
          "output_type": "stream",
          "name": "stdout",
          "text": [
            "\u001b[2K     \u001b[90m━━━━━━━━━━━━━━━━━━━━━━━━━━━━━━━━━━━━━━━━\u001b[0m \u001b[32m862.7/862.7 kB\u001b[0m \u001b[31m5.8 MB/s\u001b[0m eta \u001b[36m0:00:00\u001b[0m\n",
            "\u001b[?25h"
          ]
        }
      ],
      "source": [
        "# OPTIONAL ADVANCED PATH\n",
        "!pip install -qU llama-index-llms-anthropic"
      ]
    },
    {
      "cell_type": "code",
      "execution_count": null,
      "metadata": {
        "colab": {
          "base_uri": "https://localhost:8080/"
        },
        "id": "QEQ6oIOeCWJ4",
        "outputId": "2703799a-2d76-4b18-f774-9acfedd4a11d"
      },
      "outputs": [
        {
          "name": "stdout",
          "output_type": "stream",
          "text": [
            "Anthropic API Key: ··········\n"
          ]
        }
      ],
      "source": [
        "# OPTIONAL ADVANCED PATH\n",
        "os.environ[\"ANTHROPIC_API_KEY\"] = getpass.getpass(\"Anthropic API Key: \")"
      ]
    },
    {
      "cell_type": "code",
      "execution_count": null,
      "metadata": {
        "id": "yZC0Jav4CDDl"
      },
      "outputs": [],
      "source": [
        "# OPTIONAL ADVANCED PATH\n",
        "from llama_index.llms.anthropic import Anthropic\n",
        "from llama_index.core import Settings\n",
        "\n",
        "Settings.llm = Anthropic(model=\"claude-3-5-sonnet-20240620\")"
      ]
    },
    {
      "cell_type": "markdown",
      "metadata": {
        "id": "UQwigweOSV_-"
      },
      "source": [
        "## Task 3: Settings\n",
        "\n",
        "LlamaIndex lets us set global settings which we can use to influence the default behaviour of our components.\n",
        "\n",
        "Let's set our LLM and our Embedding Model!"
      ]
    },
    {
      "cell_type": "code",
      "execution_count": null,
      "metadata": {
        "id": "6KOy21KPSV_-"
      },
      "outputs": [],
      "source": [
        "from llama_index.llms.openai import OpenAI\n",
        "from llama_index.core import Settings\n",
        "\n",
        "Settings.llm = OpenAI(model=\"gpt-4o\")"
      ]
    },
    {
      "cell_type": "code",
      "execution_count": null,
      "metadata": {
        "id": "dHWYyjG7C2OA"
      },
      "outputs": [],
      "source": [
        "from llama_index.embeddings.openai import OpenAIEmbedding\n",
        "Settings.embedding = OpenAIEmbedding(model=\"text-embedding-3-small\")"
      ]
    },
    {
      "cell_type": "markdown",
      "metadata": {
        "id": "eiOdw7EQSV_-"
      },
      "source": [
        "## Task 4: `Index` Creation\n",
        "\n",
        "In order for us to perform RAG in the traditional sense - we need an `Index`.\n",
        "\n",
        "So what is an `Index`? Well - let's see how LlamaIndex defines it:\n",
        "\n",
        "> In LlamaIndex terms, an `Index` is a data structure composed of Document objects, designed to enable querying by an LLM. Your Index is designed to be complementary to your querying strategy.\n",
        "\n",
        "Okay, so we know that we have a boatload of Wikipedia content - and we know that we want to be able to query the `Index` and receive documents that are related to our query - so let's use an `Index` built on the idea of embedding-vectors.\n",
        "\n",
        "Introducing: `VectorStoreIndex`!\n",
        "\n",
        "Again, let's see how LlamaIndex defines this:\n",
        "\n",
        "> A `VectorStoreIndex` is by far the most frequent type of `Index` you'll encounter. The Vector Store Index takes your Documents and splits them up into Nodes. It then creates `vector` embeddings of the text of every node, ready to be queried by an LLM.\n",
        "\n",
        "Alright, that sounds awesome - let's make one!"
      ]
    },
    {
      "cell_type": "markdown",
      "metadata": {
        "id": "iDEtQQWnSV_-"
      },
      "source": [
        "### Data Collection\n",
        "\n",
        "We're just going to be pulling information straight from Wikipedia using the built in `WikipediaReader`.\n",
        "\n",
        "> NOTE: Setting `auto_suggest=False` ensures we run into fewer auto-correct based errors."
      ]
    },
    {
      "cell_type": "markdown",
      "metadata": {
        "id": "vcvGuykZSV_8"
      },
      "source": [
        "### A note on terminology:\n",
        "\n",
        "You'll notice that there are quite a few similarities between LangChain and LlamaIndex. LlamaIndex can largely be thought of as an extension to LangChain, in some ways - but they moved some of the language around. Let's spend a few moments disambiguating the language.\n",
        "\n",
        "- `QueryEngine` -> `LCEL Chain`:\n",
        "  -  `QueryEngine` is just LlamaIndex's way of indicating something is an LLM \"chain\" on top of a retrieval system\n",
        "- `OpenAIAgent` vs. `Agent`:\n",
        "  - The two agents have the same fundamental pattern: Decide which of a list of tools to use to answer a user's query.\n",
        "  - `OpenAIAgent` (LlamaIndex's primary agent) does not need to rely on an agent excecutor due to the fact that it is leveraging OpenAI's [functional api](https://openai.com/blog/function-calling-and-other-api-updates) which allows the agent to interface \"directly\" with the tools instead of operating through an intermediary application process.\n",
        "\n",
        "There is, however, a much large terminological difference when it comes to discussing data.\n",
        "\n",
        "##### Nodes vs. Documents\n",
        "\n",
        "As you're aware of from the previous weeks assignments, there's an idea of `documents` in NLP which refers to text objects that exist within a corpus of documents.\n",
        "\n",
        "LlamaIndex takes this a step further and reclassifies `documents` as `nodes`. Confusingly, it refers to the `Source Document` as simply `Documents`.\n",
        "\n",
        "The `Document` -> `node` structure is, almost exactly, equivalent to the `Source Document` -> `Document` structure found in LangChain - but the new terminology comes with some clarity about different structure-indices.\n",
        "\n",
        "We won't be leveraging those structured indicies today, but we will be leveraging a \"benefit\" of the `node` structure that exists as a default in LlamaIndex, which is the ability to quickly filter nodes based on their metadata.\n",
        "\n",
        "![image](https://i.imgur.com/B1QDjs5.png)"
      ]
    },
    {
      "cell_type": "code",
      "execution_count": null,
      "metadata": {
        "id": "OrzzrnYMSV_-"
      },
      "outputs": [],
      "source": [
        "from llama_index.readers.wikipedia import WikipediaReader\n",
        "\n",
        "movie_list = [\n",
        "    \"Dune (2021 film)\",\n",
        "    \"Dune: Part Two\",\n",
        "    \"The Lord of the Rings: The Fellowship of the Ring\",\n",
        "    \"The Lord of the Rings: The Two Towers\",\n",
        "]\n",
        "\n",
        "wiki_docs = WikipediaReader().load_data(pages=movie_list, auto_suggest=False)"
      ]
    },
    {
      "cell_type": "markdown",
      "metadata": {
        "id": "-6FRQ4hfSV_-"
      },
      "source": [
        "### Initializing our `VectorStoreIndex` with QDrant\n",
        "\n",
        "QDrant is a locally hostable and open-source vector database solution.\n",
        "\n",
        "It offers powerful features like metadata filtering out of the box, and will suit our needs well today!\n",
        "\n",
        "We'll start by creating our local `:memory:` client (in-memory and not meant for production use-cases) and our collection."
      ]
    },
    {
      "cell_type": "code",
      "execution_count": null,
      "metadata": {
        "colab": {
          "base_uri": "https://localhost:8080/"
        },
        "id": "b1ut96aSEVwY",
        "outputId": "49eab089-e97b-4fb2-8d17-715e2da6c0b2"
      },
      "outputs": [
        {
          "output_type": "execute_result",
          "data": {
            "text/plain": [
              "True"
            ]
          },
          "metadata": {},
          "execution_count": 16
        }
      ],
      "source": [
        "from llama_index.vector_stores.qdrant import QdrantVectorStore\n",
        "from qdrant_client import QdrantClient, models\n",
        "\n",
        "client = QdrantClient(location=\":memory:\")\n",
        "\n",
        "client.create_collection(\n",
        "    collection_name=\"movie_wikis\",\n",
        "    vectors_config=models.VectorParams(size=1536, distance=models.Distance.COSINE)\n",
        ")"
      ]
    },
    {
      "cell_type": "markdown",
      "metadata": {
        "id": "Fa3mbrfGnkCk"
      },
      "source": [
        "Then we'll create our `VectorStore` and `StorageContext` which will allow us to create an empty `VectorStoreIndex` which we will be able to add nodes to later!"
      ]
    },
    {
      "cell_type": "code",
      "execution_count": null,
      "metadata": {
        "colab": {
          "base_uri": "https://localhost:8080/"
        },
        "id": "lZ5xilm1SV_-",
        "outputId": "fa86089e-8c08-4fec-801a-b4d8c774308f"
      },
      "outputs": [
        {
          "output_type": "stream",
          "name": "stderr",
          "text": [
            "\u001b[34m\u001b[1mwandb\u001b[0m: Logged trace tree to W&B.\n"
          ]
        }
      ],
      "source": [
        "from llama_index.core import VectorStoreIndex\n",
        "from llama_index.core import StorageContext\n",
        "\n",
        "vector_store = QdrantVectorStore(client=client, collection_name=\"movie_wikis\")\n",
        "\n",
        "storage_context = StorageContext.from_defaults(vector_store=vector_store)\n",
        "\n",
        "index = VectorStoreIndex.from_documents(\n",
        "    [],\n",
        "    storage_context=storage_context,\n",
        ")"
      ]
    },
    {
      "cell_type": "markdown",
      "metadata": {
        "id": "6qtzVDelSV_-"
      },
      "source": [
        "### Node Construction\n",
        "\n",
        "Now we will loop through our documents and metadata and construct nodes.\n",
        "\n",
        "We'll make sure to explicitly associate our nodes with their respective movie so we can filter by the movie title in the upcoming cells.\n",
        "\n",
        "You might be thinking to yourself - wait, we never indicated which embedding model this should use - but remember"
      ]
    },
    {
      "cell_type": "code",
      "execution_count": null,
      "metadata": {
        "colab": {
          "base_uri": "https://localhost:8080/"
        },
        "id": "LP4INgSGSV_-",
        "outputId": "c5e58d1d-7e7c-40bf-a190-e882cd743796"
      },
      "outputs": [
        {
          "output_type": "stream",
          "name": "stderr",
          "text": [
            "\u001b[34m\u001b[1mwandb\u001b[0m: Logged trace tree to W&B.\n",
            "\u001b[34m\u001b[1mwandb\u001b[0m: Logged trace tree to W&B.\n",
            "\u001b[34m\u001b[1mwandb\u001b[0m: Logged trace tree to W&B.\n",
            "\u001b[34m\u001b[1mwandb\u001b[0m: Logged trace tree to W&B.\n"
          ]
        }
      ],
      "source": [
        "from llama_index.core import SimpleDirectoryReader\n",
        "from llama_index.core.ingestion import IngestionPipeline\n",
        "from llama_index.core.node_parser import TokenTextSplitter\n",
        "from llama_index.core.extractors import TitleExtractor\n",
        "\n",
        "pipeline = IngestionPipeline(transformations=[TokenTextSplitter()])\n",
        "\n",
        "for movie, wiki_doc in zip(movie_list, wiki_docs):\n",
        "  nodes = pipeline.run(documents=[wiki_doc])\n",
        "  for node in nodes:\n",
        "      node.metadata = {\"title\" : movie}\n",
        "  index.insert_nodes(nodes)"
      ]
    },
    {
      "cell_type": "markdown",
      "source": [
        "![image.png](data:image/png;base64,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)\n",
        "![image.png](data:image/png;base64,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)\n",
        "![image.png](data:image/png;base64,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)"
      ],
      "metadata": {
        "id": "Ha77iOQCmEKm"
      }
    },
    {
      "cell_type": "markdown",
      "source": [
        "Metadata fields include tite_id,node_id,chunk_id"
      ],
      "metadata": {
        "id": "GdYBm7kIUks5"
      }
    },
    {
      "cell_type": "code",
      "execution_count": null,
      "metadata": {
        "id": "mt1lhxEnUKxO",
        "colab": {
          "base_uri": "https://localhost:8080/"
        },
        "outputId": "4ceb984e-ec7a-4bb8-c699-519f50cbe43c"
      },
      "outputs": [
        {
          "output_type": "execute_result",
          "data": {
            "text/plain": [
              "{'default': QdrantVectorStore(stores_text=True, is_embedding_query=True, flat_metadata=False, collection_name='movie_wikis', url=None, api_key=None, batch_size=64, parallel=1, max_retries=3, client_kwargs={}, enable_hybrid=False, index_doc_id=True, fastembed_sparse_model=None),\n",
              " 'image': SimpleVectorStore(stores_text=False, is_embedding_query=True, data=SimpleVectorStoreData(embedding_dict={}, text_id_to_ref_doc_id={}, metadata_dict={}))}"
            ]
          },
          "metadata": {},
          "execution_count": 19
        }
      ],
      "source": [
        "index.storage_context.vector_stores\n"
      ]
    },
    {
      "cell_type": "markdown",
      "metadata": {
        "id": "Sfbon1BwSLFS"
      },
      "source": [
        "### Persisting and Loading Stored Index with Weights and Biases\n",
        "\n",
        "Now we can utilize a powerful feature of Weights and Biases - index and artifact versioning!\n",
        "\n",
        "We can persist our index to WandB to be used and loaded later!"
      ]
    },
    {
      "cell_type": "code",
      "execution_count": null,
      "metadata": {
        "colab": {
          "base_uri": "https://localhost:8080/"
        },
        "id": "PHJd00J3G48_",
        "outputId": "9c5f8d70-ad9f-498b-c15b-5982c1ef20e0"
      },
      "outputs": [
        {
          "output_type": "stream",
          "name": "stderr",
          "text": [
            "\u001b[34m\u001b[1mwandb\u001b[0m: Adding directory to artifact (/content/wandb/run-20240723_015950-keef3k15/files/storage)... Done. 0.0s\n"
          ]
        }
      ],
      "source": [
        "wandb_callback.persist_index(index, index_name=\"movie-index-qdrant\")"
      ]
    },
    {
      "cell_type": "markdown",
      "metadata": {
        "id": "jvpHLt8UShKa"
      },
      "source": [
        "Now we can load our index from WandB, which is a truly powerful tool!"
      ]
    },
    {
      "cell_type": "code",
      "execution_count": null,
      "metadata": {
        "colab": {
          "base_uri": "https://localhost:8080/"
        },
        "id": "FDZLmqTDHDrZ",
        "outputId": "5a9c6d53-30a1-44d7-fd17-f64484728718"
      },
      "outputs": [
        {
          "output_type": "stream",
          "name": "stderr",
          "text": [
            "\u001b[34m\u001b[1mwandb\u001b[0m:   4 of 4 files downloaded.  \n"
          ]
        }
      ],
      "source": [
        "from llama_index.core import load_index_from_storage\n",
        "\n",
        "storage_context = wandb_callback.load_storage_context(\n",
        "    artifact_url=\"hessianai/llama-index-rag-v1/movie-index-qdrant:v1\"\n",
        ")"
      ]
    },
    {
      "cell_type": "markdown",
      "metadata": {
        "id": "kCSHKnb0mIte"
      },
      "source": [
        "## Task 5: Simple RAG - QueryEngine\n",
        "\n",
        "Now that we're created our `VectorStoreIndex`, powered by a QDrant VectorStore, we can wrap it in a simple `QueryEngine` using the `as_query_engine()` method - which will connect a few things together for us:"
      ]
    },
    {
      "cell_type": "code",
      "execution_count": null,
      "metadata": {
        "id": "3ipb8j6dfLcO"
      },
      "outputs": [],
      "source": [
        "simple_rag = index.as_query_engine()"
      ]
    },
    {
      "cell_type": "markdown",
      "metadata": {
        "id": "zgJZGr5FqAME"
      },
      "source": [
        "Before we test this out - let's see what information we can find out about from our new `QueryEngine`!"
      ]
    },
    {
      "cell_type": "code",
      "execution_count": null,
      "metadata": {
        "colab": {
          "base_uri": "https://localhost:8080/"
        },
        "id": "L-3v4ntaqFmd",
        "outputId": "1daa7a5f-87f2-4530-8940-76fd4b0fc3c9"
      },
      "outputs": [
        {
          "output_type": "stream",
          "name": "stdout",
          "text": [
            "Context information is below.\n",
            "---------------------\n",
            "{context_str}\n",
            "---------------------\n",
            "Given the context information and not prior knowledge, answer the query.\n",
            "Query: {query_str}\n",
            "Answer: \n",
            "\n",
            "~~~~~~~~~~~~~~~~~~\n",
            "\n",
            "The original query is as follows: {query_str}\n",
            "We have provided an existing answer: {existing_answer}\n",
            "We have the opportunity to refine the existing answer (only if needed) with some more context below.\n",
            "------------\n",
            "{context_msg}\n",
            "------------\n",
            "Given the new context, refine the original answer to better answer the query. If the context isn't useful, return the original answer.\n",
            "Refined Answer: \n",
            "\n",
            "~~~~~~~~~~~~~~~~~~\n",
            "\n"
          ]
        }
      ],
      "source": [
        "for k, v in simple_rag.get_prompts().items():\n",
        "  print(v.get_template())\n",
        "  print(\"\\n~~~~~~~~~~~~~~~~~~\\n\")"
      ]
    },
    {
      "cell_type": "markdown",
      "metadata": {
        "id": "N1YoR45tnv8h"
      },
      "source": [
        "Let's see how it does!"
      ]
    },
    {
      "cell_type": "code",
      "execution_count": null,
      "metadata": {
        "colab": {
          "base_uri": "https://localhost:8080/"
        },
        "id": "FgpQhKobfQ7y",
        "outputId": "3806a648-b0d4-4f2c-a82d-0055bd60891e"
      },
      "outputs": [
        {
          "output_type": "stream",
          "name": "stderr",
          "text": [
            "\u001b[34m\u001b[1mwandb\u001b[0m: Logged trace tree to W&B.\n"
          ]
        }
      ],
      "source": [
        "response = simple_rag.query(\"Who is the evil Wizard in the story?\")"
      ]
    },
    {
      "cell_type": "code",
      "execution_count": null,
      "metadata": {
        "colab": {
          "base_uri": "https://localhost:8080/",
          "height": 35
        },
        "id": "654d4vdfhnVq",
        "outputId": "a39d29ae-a816-466a-d468-61d7d2cb91f8"
      },
      "outputs": [
        {
          "output_type": "execute_result",
          "data": {
            "text/plain": [
              "'The evil Wizard in the story is Saruman.'"
            ],
            "application/vnd.google.colaboratory.intrinsic+json": {
              "type": "string"
            }
          },
          "metadata": {},
          "execution_count": 26
        }
      ],
      "source": [
        "response.response"
      ]
    },
    {
      "cell_type": "markdown",
      "metadata": {
        "id": "D8rRiijvpVoQ"
      },
      "source": [
        "That makes sense!\n",
        "\n",
        "Let's ask a question that's slightly more...ambiguous."
      ]
    },
    {
      "cell_type": "code",
      "execution_count": null,
      "metadata": {
        "colab": {
          "base_uri": "https://localhost:8080/"
        },
        "id": "_m0H1tbLiqME",
        "outputId": "3f8fb056-5b52-450f-edce-e8501d4f2efa"
      },
      "outputs": [
        {
          "output_type": "stream",
          "name": "stderr",
          "text": [
            "\u001b[34m\u001b[1mwandb\u001b[0m: Logged trace tree to W&B.\n"
          ]
        }
      ],
      "source": [
        "response = simple_rag.query(\"Who are the giant beings that roam across the world?\")"
      ]
    },
    {
      "cell_type": "code",
      "execution_count": null,
      "metadata": {
        "colab": {
          "base_uri": "https://localhost:8080/",
          "height": 35
        },
        "id": "TEh4yjQzizeV",
        "outputId": "9a7ba4a0-6616-4e8a-b1c5-9d9f8bc45785"
      },
      "outputs": [
        {
          "output_type": "execute_result",
          "data": {
            "text/plain": [
              "'The giant beings that roam across the world are the sandworms.'"
            ],
            "application/vnd.google.colaboratory.intrinsic+json": {
              "type": "string"
            }
          },
          "metadata": {},
          "execution_count": 34
        }
      ],
      "source": [
        "response.response"
      ]
    },
    {
      "cell_type": "markdown",
      "metadata": {
        "id": "xOb6eh8_pnaX"
      },
      "source": [
        "We can check the source nodes to see which movies we retrieved."
      ]
    },
    {
      "cell_type": "code",
      "execution_count": null,
      "metadata": {
        "colab": {
          "base_uri": "https://localhost:8080/"
        },
        "id": "y_qyApFDpPny",
        "outputId": "e4201cb6-a9a6-4e1f-c464-bf2332233aff"
      },
      "outputs": [
        {
          "output_type": "stream",
          "name": "stdout",
          "text": [
            "['Dune (2021 film)', 'The Lord of the Rings: The Fellowship of the Ring']\n"
          ]
        }
      ],
      "source": [
        "print([x.metadata[\"title\"] for x in response.source_nodes])"
      ]
    },
    {
      "cell_type": "markdown",
      "metadata": {
        "id": "xBEXFmPapZpg"
      },
      "source": [
        "Okay, so in this case - we've gone with \"Sandworms \" from Dune.\n",
        "\n",
        "But there's also the Ents from Lord of the Rings, and it looks like we got documents from Lord of the Rings as well.\n",
        "\n",
        "Let's see if there's a way we can use the title metadata we added to filter the results we get!"
      ]
    },
    {
      "cell_type": "markdown",
      "metadata": {
        "id": "YUa5sHMsSV__"
      },
      "source": [
        "## Task 6: Auto Retriever Functional Tool\n",
        "\n",
        "This tool will leverage OpenAI's functional endpoint to select the correct metadata filter and query the filtered index - only looking at nodes with the desired metadata.\n",
        "\n",
        "A simplified diagram: ![image](https://i.imgur.com/AICDPav.png)"
      ]
    },
    {
      "cell_type": "markdown",
      "metadata": {
        "id": "Z2HQHY3pSV__"
      },
      "source": [
        "First, we need to create our `VectoreStoreInfo` object which will hold all the relevant metadata we need for each component (in this case title metadata).\n",
        "\n",
        "Notice that you need to include it in a text list."
      ]
    },
    {
      "cell_type": "code",
      "execution_count": null,
      "metadata": {
        "id": "KoAYxbdsSV__"
      },
      "outputs": [],
      "source": [
        "from llama_index.core.tools import FunctionTool\n",
        "from llama_index.core.vector_stores.types import (\n",
        "    VectorStoreInfo,\n",
        "    MetadataInfo,\n",
        "    ExactMatchFilter,\n",
        "    MetadataFilters,\n",
        ")\n",
        "from llama_index.core.retrievers import VectorIndexRetriever\n",
        "from llama_index.core.query_engine import RetrieverQueryEngine\n",
        "\n",
        "from typing import List, Tuple, Any\n",
        "from pydantic import BaseModel, Field\n",
        "\n",
        "top_k = 3\n",
        "\n",
        "vector_store_info = VectorStoreInfo(\n",
        "    content_info=\"semantic information about movies\",\n",
        "    metadata_info=[MetadataInfo(\n",
        "        name=\"title\",\n",
        "        type=\"str\",\n",
        "        description='title of the movie, one of [\"Dune (2021 film)\", \"Dune: Part Two\", \"The Lord of the Rings: The Fellowship of the Ring\", \"The Lord of the Rings: The Two Towers\"]'\n",
        "        )]\n",
        ")"
      ]
    },
    {
      "cell_type": "markdown",
      "metadata": {
        "id": "NEjK7jcsSV__"
      },
      "source": [
        "Now we'll create our base PyDantic object that we can use to ensure compatability with our application layer. This verifies that the response from the OpenAI endpoint conforms to this schema."
      ]
    },
    {
      "cell_type": "code",
      "execution_count": null,
      "metadata": {
        "id": "yixkwF8zSV__"
      },
      "outputs": [],
      "source": [
        "class AutoRetrieveModel(BaseModel):\n",
        "    query: str = Field(..., description=\"natural language query string\")\n",
        "    filter_key_list: List[str] = Field(\n",
        "        ..., description=\"List of metadata filter field names\"\n",
        "    )\n",
        "    filter_value_list: List[str] = Field(\n",
        "        ...,\n",
        "        description=(\n",
        "            \"List of metadata filter field values (corresponding to names specified in filter_key_list)\"\n",
        "        )\n",
        "    )"
      ]
    },
    {
      "cell_type": "markdown",
      "metadata": {
        "id": "Ep6ORS3FSV__"
      },
      "source": [
        "Now we can build our function that we will use to query the functional endpoint."
      ]
    },
    {
      "cell_type": "code",
      "execution_count": null,
      "metadata": {
        "id": "y8sPThxlSV__"
      },
      "outputs": [],
      "source": [
        "def auto_retrieve_fn(\n",
        "    query: str, filter_key_list: List[str], filter_value_list: List[str]\n",
        "):\n",
        "    \"\"\"Auto retrieval function.\n",
        "\n",
        "    Performs auto-retrieval from a vector database, and then applies a set of filters.\n",
        "\n",
        "    \"\"\"\n",
        "    query = query or \"Query\"\n",
        "\n",
        "    exact_match_filters = [\n",
        "        ExactMatchFilter(key=k, value=v)\n",
        "        for k, v in zip(filter_key_list, filter_value_list)\n",
        "    ]\n",
        "    retriever = VectorIndexRetriever(\n",
        "        index, filters=MetadataFilters(filters=exact_match_filters), top_k=top_k\n",
        "    )\n",
        "    query_engine = RetrieverQueryEngine.from_args(retriever)\n",
        "\n",
        "    response = query_engine.query(query)\n",
        "    return str(response)"
      ]
    },
    {
      "cell_type": "markdown",
      "metadata": {
        "id": "Yt4BV6oISV__"
      },
      "source": [
        "Now we need to wrap our system in a tool in order to integrate it into the larger application.\n",
        "\n",
        "Source Code Here:\n",
        "- [`FunctionTool`](https://github.com/jerryjliu/llama_index/blob/d24767b0812ac56104497d8f59095eccbe9f2b08/llama_index/tools/function_tool.py#L21)"
      ]
    },
    {
      "cell_type": "code",
      "execution_count": null,
      "metadata": {
        "id": "U4lS1NqeSV__"
      },
      "outputs": [],
      "source": [
        "description = f\"\"\"\\\n",
        "Use this tool to look up non-review based information about films.\n",
        "The vector database schema is given below:\n",
        "{vector_store_info.json()}\n",
        "\"\"\"\n",
        "\n",
        "auto_retrieve_tool = FunctionTool.from_defaults(\n",
        "    fn=auto_retrieve_fn,\n",
        "    name=\"semantic-film-info\",\n",
        "    description=description,\n",
        "    fn_schema=AutoRetrieveModel\n",
        ")"
      ]
    },
    {
      "cell_type": "markdown",
      "source": [
        "Its important from documentation , clarity ,error handling perspective . I dont think the code will fail or not work if I give wrong description"
      ],
      "metadata": {
        "id": "QgyN_uP99swn"
      }
    },
    {
      "cell_type": "markdown",
      "metadata": {
        "id": "ZblimmXVSV__"
      },
      "source": [
        "All that's left to do is attach the tool to an OpenAIAgent and let it rip!\n",
        "\n",
        "Source Code Here:\n",
        "- [`OpenAIAgent`](https://github.com/jerryjliu/llama_index/blob/d24767b0812ac56104497d8f59095eccbe9f2b08/llama_index/agent/openai_agent.py#L361)"
      ]
    },
    {
      "cell_type": "code",
      "execution_count": null,
      "metadata": {
        "id": "W2hafCTxSV__",
        "colab": {
          "base_uri": "https://localhost:8080/",
          "height": 211
        },
        "outputId": "18d70880-9e9d-4655-cb1e-29f9dba2cc0e"
      },
      "outputs": [
        {
          "output_type": "error",
          "ename": "NameError",
          "evalue": "name 'auto_retrieve_tool' is not defined",
          "traceback": [
            "\u001b[0;31m---------------------------------------------------------------------------\u001b[0m",
            "\u001b[0;31mNameError\u001b[0m                                 Traceback (most recent call last)",
            "\u001b[0;32m<ipython-input-39-5b03972b6c2a>\u001b[0m in \u001b[0;36m<cell line: 3>\u001b[0;34m()\u001b[0m\n\u001b[1;32m      2\u001b[0m \u001b[0;34m\u001b[0m\u001b[0m\n\u001b[1;32m      3\u001b[0m agent_worker = FunctionCallingAgentWorker.from_tools(\n\u001b[0;32m----> 4\u001b[0;31m     \u001b[0mtools\u001b[0m\u001b[0;34m=\u001b[0m\u001b[0;34m[\u001b[0m\u001b[0mauto_retrieve_tool\u001b[0m\u001b[0;34m]\u001b[0m\u001b[0;34m,\u001b[0m\u001b[0;34m\u001b[0m\u001b[0;34m\u001b[0m\u001b[0m\n\u001b[0m\u001b[1;32m      5\u001b[0m     \u001b[0mverbose\u001b[0m\u001b[0;34m=\u001b[0m\u001b[0;32mTrue\u001b[0m\u001b[0;34m,\u001b[0m\u001b[0;34m\u001b[0m\u001b[0;34m\u001b[0m\u001b[0m\n\u001b[1;32m      6\u001b[0m )\n",
            "\u001b[0;31mNameError\u001b[0m: name 'auto_retrieve_tool' is not defined"
          ]
        }
      ],
      "source": [
        "from llama_index.core.agent import FunctionCallingAgentWorker\n",
        "\n",
        "agent_worker = FunctionCallingAgentWorker.from_tools(\n",
        "    tools=[auto_retrieve_tool],\n",
        "    verbose=True,\n",
        ")\n",
        "\n",
        "agent = agent_worker.as_agent()"
      ]
    },
    {
      "cell_type": "code",
      "execution_count": null,
      "metadata": {
        "colab": {
          "base_uri": "https://localhost:8080/"
        },
        "id": "DBJWDBK5SV__",
        "outputId": "3269853a-6f1d-4a39-e318-0bdfda15fe12"
      },
      "outputs": [
        {
          "name": "stdout",
          "output_type": "stream",
          "text": [
            "Added user message to memory: Who starred in the 2021 film?\n",
            "=== LLM Response ===\n",
            "To answer your question about who starred in the 2021 film, I'll need to use the semantic-film-info tool to look up information about the movie. Based on the available films in the database, I assume you're referring to \"Dune (2021 film)\". Let me query the database for this information.\n",
            "=== Calling Function ===\n",
            "Calling function: semantic-film-info with args: {\"query\": \"Who starred in Dune (2021 film)?\", \"filter_key_list\": [\"title\"], \"filter_value_list\": [\"Dune (2021 film)\"]}\n",
            "=== Function Output ===\n",
            "The 2021 film adaptation of Dune features an ensemble cast including Timothée Chalamet, Rebecca Ferguson, Oscar Isaac, Josh Brolin, Stellan Skarsgård, Dave Bautista, Stephen McKinley Henderson, Zendaya, Chang Chen, Sharon Duncan-Brewster, Charlotte Rampling, Jason Momoa, and Javier Bardem.\n",
            "\n",
            "Some notable casting details include:\n",
            "\n",
            "- Timothée Chalamet as Paul Atreides\n",
            "- Rebecca Ferguson as Lady Jessica\n",
            "- Oscar Isaac as Duke Leto Atreides\n",
            "- Josh Brolin as Gurney Halleck\n",
            "- Jason Momoa as Duncan Idaho\n",
            "- Zendaya as Chani\n",
            "- Javier Bardem as Stilgar\n",
            "- Stellan Skarsgård as Baron Vladimir Harkonnen\n",
            "- Dave Bautista as Glossu Rabban\n",
            "- Charlotte Rampling as Gaius Helen Mohiam\n",
            "- Sharon Duncan-Brewster as Dr. Liet Kynes\n",
            "\n",
            "The film was directed by Denis Villeneuve and features a star-studded lineup of actors in various key roles from Frank Herbert's novel.\n"
          ]
        },
        {
          "name": "stderr",
          "output_type": "stream",
          "text": [
            "\u001b[34m\u001b[1mwandb\u001b[0m: Logged trace tree to W&B.\n"
          ]
        },
        {
          "name": "stdout",
          "output_type": "stream",
          "text": [
            "=== LLM Response ===\n",
            "Based on the information from the semantic-film-info tool, I can provide you with details about who starred in the 2021 film \"Dune\":\n",
            "\n",
            "The movie features an impressive ensemble cast, including:\n",
            "\n",
            "1. Timothée Chalamet as Paul Atreides (the main protagonist)\n",
            "2. Rebecca Ferguson as Lady Jessica (Paul's mother)\n",
            "3. Oscar Isaac as Duke Leto Atreides (Paul's father)\n",
            "4. Josh Brolin as Gurney Halleck\n",
            "5. Stellan Skarsgård as Baron Vladimir Harkonnen (the main antagonist)\n",
            "6. Dave Bautista as Glossu Rabban\n",
            "7. Zendaya as Chani\n",
            "8. Jason Momoa as Duncan Idaho\n",
            "9. Javier Bardem as Stilgar\n",
            "10. Charlotte Rampling as Gaius Helen Mohiam\n",
            "11. Sharon Duncan-Brewster as Dr. Liet Kynes\n",
            "\n",
            "Additionally, the cast includes Stephen McKinley Henderson and Chang Chen in supporting roles.\n",
            "\n",
            "This star-studded lineup brings to life the characters from Frank Herbert's classic science fiction novel under the direction of Denis Villeneuve. Each actor portrays a key character in the complex world of Dune, contributing to the epic scale of the film.\n"
          ]
        }
      ],
      "source": [
        "response = agent.chat(\"Who starred in the 2021 film?\")"
      ]
    },
    {
      "cell_type": "code",
      "execution_count": null,
      "metadata": {
        "colab": {
          "base_uri": "https://localhost:8080/"
        },
        "id": "UZzs2PyDuJGX",
        "outputId": "2ab91ee7-bfc8-45d4-da76-838eba5ed54e"
      },
      "outputs": [
        {
          "name": "stdout",
          "output_type": "stream",
          "text": [
            "Added user message to memory: Who are the giant beings that roam across the world in the movies?\n",
            "=== LLM Response ===\n",
            "To answer your question about the giant beings that roam across the world in the movies, I'll need to use the semantic-film-info tool to gather information. Since you haven't specified which movie you're referring to, and the question could apply to multiple films in our database, I'll need to query for information about both the Dune films and The Lord of the Rings films, as they both feature large creatures in their worlds.\n",
            "=== Calling Function ===\n",
            "Calling function: semantic-film-info with args: {\"query\": \"What are the giant beings or creatures that roam across the world in the movies?\", \"filter_key_list\": [\"title\"], \"filter_value_list\": [\"Dune (2021 film)\", \"Dune: Part Two\", \"The Lord of the Rings: The Fellowship of the Ring\", \"The Lord of the Rings: The Two Towers\"]}\n",
            "=== Function Output ===\n",
            "The giant creatures that roam across the world in the movie are called sandworms. These massive beings are native to the planet Arrakis and play a significant role in the film's story and visuals. \n",
            "\n",
            "The sandworms were designed to be awe-inspiring and commanding of respect. Their appearance was inspired by various natural elements, including whales with baleen in their mouths, tree bark, and mud flats. The filmmakers wanted to portray them as almost deity-like creatures in the eyes of the Fremen people.\n",
            "\n",
            "Creating the sandworms involved significant design and production challenges. The film used a combination of practical sets and visual effects to bring these enormous creatures to life, ensuring they appeared both realistic and fantastical within the movie's universe.\n"
          ]
        },
        {
          "name": "stderr",
          "output_type": "stream",
          "text": [
            "\u001b[34m\u001b[1mwandb\u001b[0m: Logged trace tree to W&B.\n"
          ]
        },
        {
          "name": "stdout",
          "output_type": "stream",
          "text": [
            "=== LLM Response ===\n",
            "Based on the information provided by the semantic-film-info tool, I can answer your question about the giant beings that roam across the world in the movies:\n",
            "\n",
            "In the Dune films (both the 2021 film and its sequel), the giant beings you're referring to are called sandworms. These are massive creatures native to the planet Arrakis, where most of the story takes place. Here are some key points about the sandworms:\n",
            "\n",
            "1. Size and Appearance: The sandworms are truly gigantic creatures. They were designed to be awe-inspiring and command respect. Their appearance draws inspiration from various natural elements, including:\n",
            "   - Whales with baleen in their mouths\n",
            "   - Tree bark\n",
            "   - Mud flats\n",
            "\n",
            "2. Significance: These creatures play a crucial role in the film's story and visuals. They are not just background elements but integral to the plot and the ecology of Arrakis.\n",
            "\n",
            "3. Cultural Impact: To the Fremen people (the native inhabitants of Arrakis), the sandworms are viewed as almost deity-like creatures. This gives you an idea of their importance and the reverence they inspire.\n",
            "\n",
            "4. Design and Production: Creating these sandworms for the films was a significant challenge. The filmmakers used a combination of practical sets and visual effects to bring these enormous creatures to life, aiming to make them appear both realistic and fantastical within the movie's universe.\n",
            "\n",
            "It's worth noting that the query didn't return information about giant beings in The Lord of the Rings films, focusing instead on the sandworms from Dune. If you were curious about large creatures in The Lord of the Rings as well, you might need to ask a more specific question about those films.\n"
          ]
        }
      ],
      "source": [
        "response = agent.chat(\"Who are the giant beings that roam across the world in the movies?\")"
      ]
    },
    {
      "cell_type": "markdown",
      "metadata": {
        "id": "yJcJL7VXSV__"
      },
      "source": [
        "## Quantitative RAG Pipeline with NL2SQL Tooling\n",
        "\n",
        "We'll walk through the steps of creating a natural language to SQL system in the following section.\n",
        "\n",
        "> NOTICE: This does not have parsing on the inputs or intermediary calls to ensure that users are using safe SQL queries. Use this with caution in a production environment without adding specific guardrails from either side of the application."
      ]
    },
    {
      "cell_type": "markdown",
      "metadata": {
        "id": "SsVcM0-4SV__"
      },
      "source": [
        "The next few steps should be largely straightforward, we'll want to:\n",
        "\n",
        "1. Read in our `.csv` files into `pd.DataFrame` objects\n",
        "2. Create an in-memory `sqlite` powered `sqlalchemy` engine\n",
        "3. Cast our `pd.DataFrame` objects to the SQL engine\n",
        "4. Create an `SQLDatabase` object through LlamaIndex\n",
        "5. Use that to create a `QueryEngineTool` that we can interact with through the `NLSQLTableQueryEngine`!\n",
        "\n",
        "If you get stuck, please consult the documentation."
      ]
    },
    {
      "cell_type": "code",
      "execution_count": null,
      "metadata": {
        "colab": {
          "base_uri": "https://localhost:8080/"
        },
        "id": "WwWOygTqlNBh",
        "outputId": "eb210413-d15a-44bc-9793-8b874fa9affd"
      },
      "outputs": [
        {
          "name": "stdout",
          "output_type": "stream",
          "text": [
            "--2024-06-26 00:01:40--  https://raw.githubusercontent.com/AI-Maker-Space/DataRepository/main/dune1.csv\n",
            "Resolving raw.githubusercontent.com (raw.githubusercontent.com)... 185.199.108.133, 185.199.109.133, 185.199.110.133, ...\n",
            "Connecting to raw.githubusercontent.com (raw.githubusercontent.com)|185.199.108.133|:443... connected.\n",
            "HTTP request sent, awaiting response... 200 OK\n",
            "Length: 133391 (130K) [text/plain]\n",
            "Saving to: ‘dune1.csv’\n",
            "\n",
            "dune1.csv           100%[===================>] 130.26K  --.-KB/s    in 0.02s   \n",
            "\n",
            "2024-06-26 00:01:40 (7.67 MB/s) - ‘dune1.csv’ saved [133391/133391]\n",
            "\n"
          ]
        }
      ],
      "source": [
        "!wget https://raw.githubusercontent.com/AI-Maker-Space/DataRepository/main/dune1.csv"
      ]
    },
    {
      "cell_type": "code",
      "execution_count": null,
      "metadata": {
        "colab": {
          "base_uri": "https://localhost:8080/"
        },
        "id": "TD_9LPL9lTlG",
        "outputId": "b520f7a1-de90-4e7e-993a-a41215c8b09d"
      },
      "outputs": [
        {
          "name": "stdout",
          "output_type": "stream",
          "text": [
            "--2024-06-26 00:01:40--  https://raw.githubusercontent.com/AI-Maker-Space/DataRepository/main/dune2.csv\n",
            "Resolving raw.githubusercontent.com (raw.githubusercontent.com)... 185.199.108.133, 185.199.109.133, 185.199.110.133, ...\n",
            "Connecting to raw.githubusercontent.com (raw.githubusercontent.com)|185.199.108.133|:443... connected.\n",
            "HTTP request sent, awaiting response... 200 OK\n",
            "Length: 111843 (109K) [text/plain]\n",
            "Saving to: ‘dune2.csv’\n",
            "\n",
            "dune2.csv           100%[===================>] 109.22K  --.-KB/s    in 0.01s   \n",
            "\n",
            "2024-06-26 00:01:41 (7.99 MB/s) - ‘dune2.csv’ saved [111843/111843]\n",
            "\n"
          ]
        }
      ],
      "source": [
        "!wget https://raw.githubusercontent.com/AI-Maker-Space/DataRepository/main/dune2.csv"
      ]
    },
    {
      "cell_type": "code",
      "execution_count": null,
      "metadata": {
        "colab": {
          "base_uri": "https://localhost:8080/"
        },
        "id": "QWFWvEdY1inS",
        "outputId": "2f626100-2d1b-447c-ebf2-1088f88e962c"
      },
      "outputs": [
        {
          "name": "stdout",
          "output_type": "stream",
          "text": [
            "--2024-06-26 00:01:41--  https://raw.githubusercontent.com/AI-Maker-Space/DataRepository/main/lotr_fotr.csv\n",
            "Resolving raw.githubusercontent.com (raw.githubusercontent.com)... 185.199.108.133, 185.199.109.133, 185.199.110.133, ...\n",
            "Connecting to raw.githubusercontent.com (raw.githubusercontent.com)|185.199.108.133|:443... connected.\n",
            "HTTP request sent, awaiting response... 200 OK\n",
            "Length: 172855 (169K) [text/plain]\n",
            "Saving to: ‘lotr_fotr.csv’\n",
            "\n",
            "lotr_fotr.csv       100%[===================>] 168.80K  --.-KB/s    in 0.02s   \n",
            "\n",
            "2024-06-26 00:01:41 (7.51 MB/s) - ‘lotr_fotr.csv’ saved [172855/172855]\n",
            "\n"
          ]
        }
      ],
      "source": [
        "!wget https://raw.githubusercontent.com/AI-Maker-Space/DataRepository/main/lotr_fotr.csv"
      ]
    },
    {
      "cell_type": "code",
      "execution_count": null,
      "metadata": {
        "colab": {
          "base_uri": "https://localhost:8080/"
        },
        "id": "Nto_jNmN1n-G",
        "outputId": "8eba2484-2fe4-447f-ac3a-62f45c07a291"
      },
      "outputs": [
        {
          "name": "stdout",
          "output_type": "stream",
          "text": [
            "--2024-06-26 00:01:41--  https://raw.githubusercontent.com/AI-Maker-Space/DataRepository/main/lotr_tt.csv\n",
            "Resolving raw.githubusercontent.com (raw.githubusercontent.com)... 185.199.108.133, 185.199.109.133, 185.199.110.133, ...\n",
            "Connecting to raw.githubusercontent.com (raw.githubusercontent.com)|185.199.108.133|:443... connected.\n",
            "HTTP request sent, awaiting response... 200 OK\n",
            "Length: 114598 (112K) [text/plain]\n",
            "Saving to: ‘lotr_tt.csv’\n",
            "\n",
            "lotr_tt.csv         100%[===================>] 111.91K  --.-KB/s    in 0.02s   \n",
            "\n",
            "2024-06-26 00:01:41 (5.53 MB/s) - ‘lotr_tt.csv’ saved [114598/114598]\n",
            "\n"
          ]
        }
      ],
      "source": [
        "!wget https://raw.githubusercontent.com/AI-Maker-Space/DataRepository/main/lotr_tt.csv"
      ]
    },
    {
      "cell_type": "markdown",
      "metadata": {
        "id": "8PUg-ZuTSWAC"
      },
      "source": [
        "#### Read `.csv` Into Pandas"
      ]
    },
    {
      "cell_type": "code",
      "execution_count": null,
      "metadata": {
        "id": "52Hd8PM4SWAC"
      },
      "outputs": [],
      "source": [
        "import pandas as pd\n",
        "\n",
        "dune1 = pd.read_csv(\"./dune1.csv\")\n",
        "dune2 = pd.read_csv(\"./dune2.csv\")\n",
        "lotr_fotr = pd.read_csv(\"./lotr_fotr.csv\")\n",
        "lotr_tt = pd.read_csv(\"./lotr_tt.csv\")"
      ]
    },
    {
      "cell_type": "markdown",
      "metadata": {
        "id": "fPTNyqmpSWAC"
      },
      "source": [
        "#### Create SQLAlchemy engine with SQLite"
      ]
    },
    {
      "cell_type": "code",
      "execution_count": null,
      "metadata": {
        "id": "4lfuPKYBSWAC"
      },
      "outputs": [],
      "source": [
        "from sqlalchemy import create_engine\n",
        "\n",
        "engine = create_engine(\"sqlite+pysqlite:///:memory:\")"
      ]
    },
    {
      "cell_type": "markdown",
      "metadata": {
        "id": "iJiYiSuHSWAC"
      },
      "source": [
        "#### Convert `pd.DataFrame` to SQL tables"
      ]
    },
    {
      "cell_type": "code",
      "execution_count": null,
      "metadata": {
        "colab": {
          "base_uri": "https://localhost:8080/"
        },
        "id": "W-96asUHSWAC",
        "outputId": "f0d1f08a-2509-4e93-b3f9-a3a21ddff92f"
      },
      "outputs": [
        {
          "data": {
            "text/plain": [
              "274"
            ]
          },
          "execution_count": 48,
          "metadata": {},
          "output_type": "execute_result"
        }
      ],
      "source": [
        "dune1.to_sql(\n",
        "  \"Dune (2021 film)\",\n",
        "  engine\n",
        ")"
      ]
    },
    {
      "cell_type": "code",
      "execution_count": null,
      "metadata": {
        "colab": {
          "base_uri": "https://localhost:8080/"
        },
        "id": "ZwOi1RE1SWAC",
        "outputId": "23ac88ff-ed1a-4ef1-f885-17e263aa8f63"
      },
      "outputs": [
        {
          "data": {
            "text/plain": [
              "175"
            ]
          },
          "execution_count": 49,
          "metadata": {},
          "output_type": "execute_result"
        }
      ],
      "source": [
        "dune2.to_sql(\n",
        "  \"Dune: Part Two\",\n",
        "  engine\n",
        ")"
      ]
    },
    {
      "cell_type": "code",
      "execution_count": null,
      "metadata": {
        "colab": {
          "base_uri": "https://localhost:8080/"
        },
        "id": "3R6FTIki4Q51",
        "outputId": "ce50ac65-4e44-489c-cf3e-98aec674b51a"
      },
      "outputs": [
        {
          "data": {
            "text/plain": [
              "250"
            ]
          },
          "execution_count": 50,
          "metadata": {},
          "output_type": "execute_result"
        }
      ],
      "source": [
        "lotr_fotr.to_sql(\n",
        "  \"The Lord of the Rings: The Fellowship of the Ring\",\n",
        "  engine\n",
        ")"
      ]
    },
    {
      "cell_type": "code",
      "execution_count": null,
      "metadata": {
        "colab": {
          "base_uri": "https://localhost:8080/"
        },
        "id": "5CiP8dwV4SFZ",
        "outputId": "747a2b16-434f-4b37-bf95-fe7acd2ecddb"
      },
      "outputs": [
        {
          "data": {
            "text/plain": [
              "149"
            ]
          },
          "execution_count": 51,
          "metadata": {},
          "output_type": "execute_result"
        }
      ],
      "source": [
        "lotr_tt.to_sql(\n",
        "  \"The Lord of the Rings: The Two Towers\",\n",
        "  engine\n",
        ")"
      ]
    },
    {
      "cell_type": "markdown",
      "metadata": {
        "id": "pibA9qT7SWAC"
      },
      "source": [
        "#### Construct a `SQLDatabase` index\n",
        "\n",
        "Source Code Here:\n",
        "- [`SQLDatabase`](https://github.com/jerryjliu/llama_index/blob/d24767b0812ac56104497d8f59095eccbe9f2b08/llama_index/langchain_helpers/sql_wrapper.py#L9)"
      ]
    },
    {
      "cell_type": "code",
      "execution_count": null,
      "metadata": {
        "id": "yeDYpR1LSWAD"
      },
      "outputs": [],
      "source": [
        "from llama_index.core import SQLDatabase\n",
        "\n",
        "sql_database = SQLDatabase(\n",
        "    engine=engine,\n",
        "    include_tables=movie_list\n",
        ")"
      ]
    },
    {
      "cell_type": "markdown",
      "metadata": {
        "id": "-7VfZBenSWAD"
      },
      "source": [
        "#### Create the NLSQLTableQueryEngine interface for all added SQL tables\n",
        "\n",
        "Source Code Here:\n",
        "- [`NLSQLTableQueryEngine`](https://github.com/jerryjliu/llama_index/blob/d24767b0812ac56104497d8f59095eccbe9f2b08/llama_index/indices/struct_store/sql_query.py#L75C1-L75C1)"
      ]
    },
    {
      "cell_type": "code",
      "execution_count": null,
      "metadata": {
        "id": "zQWSdMtrSWAD"
      },
      "outputs": [],
      "source": [
        "from llama_index.core.indices.struct_store.sql_query import NLSQLTableQueryEngine\n",
        "\n",
        "sql_query_engine = NLSQLTableQueryEngine(\n",
        "    sql_database=sql_database,\n",
        "    tables=movie_list,\n",
        ")"
      ]
    },
    {
      "cell_type": "markdown",
      "metadata": {
        "id": "yu8WfwuTSWAD"
      },
      "source": [
        "#### Wrap It All Up in a `QueryEngineTool`\n",
        "\n",
        "You'll want to ensure you have a descriptive...description!\n",
        "\n",
        "This is what will help the LLM decide which table to use when querying!\n",
        "\n",
        "Sorce Code Here:\n",
        "\n",
        "- [`QueryEngineTool`](https://github.com/jerryjliu/llama_index/blob/d24767b0812ac56104497d8f59095eccbe9f2b08/llama_index/tools/query_engine.py#L13)"
      ]
    },
    {
      "cell_type": "markdown",
      "metadata": {
        "id": "9sjbHnA1bQBG"
      },
      "source": [
        "####🏗️ Activity #1:\n",
        "\n",
        "Please write a Natural Language Description for the tables that we are using today.\n",
        "\n",
        "Here is an example:\n",
        "\n",
        "```\n",
        "This tool should be used to answer any and all review related inquiries by translating a natural language query into a SQL query with access to tables:\n",
        "'Dune (2021 film)' - containing info. about the first movie in the Dune series,\n",
        "'Dune: Part Two'- containing info. about about the second movie in the Dune series,\n",
        "'The Lord of the Rings: The Fellowship of the Ring' - containing info. about the first movie in the Lord of the Ring series,\n",
        "'The Lord of the Rings: The Two Towers' - containing info. the second movie in the Lord of the Ring series,\n",
        "```"
      ]
    },
    {
      "cell_type": "code",
      "execution_count": null,
      "metadata": {
        "id": "4n567cXVVCtX"
      },
      "outputs": [],
      "source": [
        "DESCRIPTION = \"\"\"\\\n",
        "\"\"\""
      ]
    },
    {
      "cell_type": "code",
      "execution_count": null,
      "metadata": {
        "id": "y-mmcBbLSWAD"
      },
      "outputs": [],
      "source": [
        "from llama_index.core.tools.query_engine import QueryEngineTool\n",
        "\n",
        "sql_tool = QueryEngineTool.from_defaults(\n",
        "    query_engine=sql_query_engine,\n",
        "    name=\"sql-query\",\n",
        "    description=DESCRIPTION,\n",
        ")"
      ]
    },
    {
      "cell_type": "code",
      "execution_count": null,
      "metadata": {
        "id": "feOrlq4XSWAD"
      },
      "outputs": [],
      "source": [
        "agent_worker = FunctionCallingAgentWorker.from_tools(\n",
        "    tools=[sql_tool],\n",
        "    verbose=True\n",
        ")\n",
        "\n",
        "agent = agent_worker.as_agent()"
      ]
    },
    {
      "cell_type": "code",
      "execution_count": null,
      "metadata": {
        "colab": {
          "base_uri": "https://localhost:8080/"
        },
        "id": "iT4G6stBSWAD",
        "outputId": "5920cfe6-1563-45b0-99b6-95caedba50c7"
      },
      "outputs": [
        {
          "name": "stdout",
          "output_type": "stream",
          "text": [
            "Added user message to memory: What is the average rating of the 2nd Lord of the Rings movie?\n",
            "=== LLM Response ===\n",
            "To answer this question, we need to query the database for information about the second Lord of the Rings movie, which is \"The Lord of the Rings: The Two Towers\". Let's use the SQL query tool to retrieve this information.\n",
            "=== Calling Function ===\n",
            "Calling function: sql-query with args: {\"input\": \"SELECT AVG(rating) as average_rating FROM `The Lord of the Rings: The Two Towers`\"}\n",
            "=== Function Output ===\n",
            "I apologize, but I'm unable to provide an accurate response based on the given query and results. The SQL query appears to be incomplete or invalid, and an error was returned instead of actual data. \n",
            "\n",
            "To properly answer a question about the average rating for \"The Lord of the Rings: The Two Towers\", we would need:\n",
            "\n",
            "1. A valid SQL query\n",
            "2. A database with a table containing rating information for the movie\n",
            "3. The actual results of running that query\n",
            "\n",
            "Without this information, I can't synthesize a meaningful response about the average rating. If you have the correct query and results, I'd be happy to help interpret that data. Alternatively, if you have a specific question about the movie's ratings, I could try to provide general information based on publicly available data sources, though it wouldn't be based on the SQL query provided.\n",
            "=== LLM Response ===\n",
            "I apologize for the confusion. It seems that the SQL query didn't return the expected results. This could be due to various reasons, such as the table structure being different from what we assumed or the data not being available in the format we expected.\n",
            "\n",
            "Since we don't have direct access to the correct table structure, let me try a more general query to see what information we can retrieve about \"The Lord of the Rings: The Two Towers\".\n",
            "=== Calling Function ===\n",
            "Calling function: sql-query with args: {\"input\": \"SELECT * FROM `The Lord of the Rings: The Two Towers` LIMIT 1\"}\n",
            "=== Function Output ===\n",
            "Based on the query results, I can provide a summary of the top-rated review for \"The Lord of the Rings: The Two Towers\":\n",
            "\n",
            "The highest-rated review comes from a user named \"Loving_Silence\" who gave the movie a perfect 10 out of 10 rating. Their review is titled \"An Epic in every sense of the word.\" \n",
            "\n",
            "In their review, Loving_Silence praises director Peter Jackson for outdoing himself with this second installment of the trilogy. They express that Jackson proves he is not a \"one-hit wonder\" after the success of the first film, \"The Fellowship of the Ring.\"\n",
            "\n",
            "The reviewer suggests that \"The Two Towers\" may even surpass its predecessor in quality. Unfortunately, the full review is cut off in the provided data, but it's clear that the reviewer has an extremely positive opinion of the film, considering it an epic and giving it the highest possible rating.\n",
            "\n",
            "This review indicates that \"The Lord of the Rings: The Two Towers\" was very well-received by at least some viewers, who found it to be an impressive continuation of the trilogy.\n"
          ]
        },
        {
          "name": "stderr",
          "output_type": "stream",
          "text": [
            "\u001b[34m\u001b[1mwandb\u001b[0m: Logged trace tree to W&B.\n"
          ]
        },
        {
          "name": "stdout",
          "output_type": "stream",
          "text": [
            "=== LLM Response ===\n",
            "Thank you for your patience. I apologize that I couldn't provide the exact average rating for \"The Lord of the Rings: The Two Towers\" as initially requested. However, based on the information we were able to retrieve, I can share some insights about the movie's reception:\n",
            "\n",
            "1. We have access to review data for the movie, which includes individual ratings and review content.\n",
            "\n",
            "2. The highest-rated review in our sample gave the movie a perfect score of 10 out of 10.\n",
            "\n",
            "3. This top review suggests that the movie was very well-received, with the reviewer considering it an \"epic\" and potentially even better than its predecessor.\n",
            "\n",
            "While we can't calculate the exact average rating from this limited data, we can infer that the movie was highly regarded by at least some viewers. The perfect score from the top review indicates that the movie likely has a high average rating overall, though we'd need more data to confirm this.\n",
            "\n",
            "If you'd like more specific information about the movie's ratings or reviews, please let me know, and I can try to query the database for additional details. Alternatively, if you have questions about other aspects of the movie, I'd be happy to help with those as well.\n"
          ]
        }
      ],
      "source": [
        "response = agent.chat(\"What is the average rating of the 2nd Lord of the Rings movie?\")"
      ]
    },
    {
      "cell_type": "code",
      "execution_count": null,
      "metadata": {
        "colab": {
          "base_uri": "https://localhost:8080/"
        },
        "id": "NhsoxOpkSWAD",
        "outputId": "99d95629-db2f-496a-b431-f5fc08c207f6"
      },
      "outputs": [
        {
          "name": "stdout",
          "output_type": "stream",
          "text": [
            "Thank you for your patience. I apologize that I couldn't provide the exact average rating for \"The Lord of the Rings: The Two Towers\" as initially requested. However, based on the information we were able to retrieve, I can share some insights about the movie's reception:\n",
            "\n",
            "1. We have access to review data for the movie, which includes individual ratings and review content.\n",
            "\n",
            "2. The highest-rated review in our sample gave the movie a perfect score of 10 out of 10.\n",
            "\n",
            "3. This top review suggests that the movie was very well-received, with the reviewer considering it an \"epic\" and potentially even better than its predecessor.\n",
            "\n",
            "While we can't calculate the exact average rating from this limited data, we can infer that the movie was highly regarded by at least some viewers. The perfect score from the top review indicates that the movie likely has a high average rating overall, though we'd need more data to confirm this.\n",
            "\n",
            "If you'd like more specific information about the movie's ratings or reviews, please let me know, and I can try to query the database for additional details. Alternatively, if you have questions about other aspects of the movie, I'd be happy to help with those as well.\n"
          ]
        }
      ],
      "source": [
        "print(str(response))"
      ]
    },
    {
      "cell_type": "code",
      "execution_count": null,
      "metadata": {
        "colab": {
          "base_uri": "https://localhost:8080/"
        },
        "id": "7FiAS6sF7DoJ",
        "outputId": "e871fa96-ec2b-485f-f6ba-7113b323b94b"
      },
      "outputs": [
        {
          "name": "stdout",
          "output_type": "stream",
          "text": [
            "Added user message to memory: What movie series has better reviews, Lord of the Rings or Dune?\n",
            "=== LLM Response ===\n",
            "To answer this question, we'll need to compare the reviews of both the Lord of the Rings and Dune movie series. We'll query the database for information about the movies from both series and then analyze the results. Let's start by getting data for each movie.\n",
            "=== Calling Function ===\n",
            "Calling function: sql-query with args: {\"input\": \"SELECT 'LOTR: Fellowship' AS movie, AVG(rating) AS avg_rating, COUNT(*) AS review_count\\nFROM `The Lord of the Rings: The Fellowship of the Ring`\\nUNION ALL\\nSELECT 'LOTR: Two Towers' AS movie, AVG(rating) AS avg_rating, COUNT(*) AS review_count\\nFROM `The Lord of the Rings: The Two Towers`\\nUNION ALL\\nSELECT 'Dune (2021)' AS movie, AVG(rating) AS avg_rating, COUNT(*) AS review_count\\nFROM `Dune (2021 film)`\\nUNION ALL\\nSELECT 'Dune: Part Two' AS movie, AVG(rating) AS avg_rating, COUNT(*) AS review_count\\nFROM `Dune: Part Two`\"}\n",
            "=== Function Output ===\n",
            "I apologize, but I'm unable to provide a meaningful response based on the query results, as there was an error in executing the SQL statement. The error message indicates that the SQL statement is invalid. \n",
            "\n",
            "This could be due to a few reasons:\n",
            "\n",
            "1. The table names might be incorrect or not exist in the database.\n",
            "2. There might be a syntax error in the SQL statement.\n",
            "3. The query might be incomplete, as the last line seems to be cut off (missing a closing backtick).\n",
            "\n",
            "Without valid query results, I can't synthesize a response about the average ratings or review counts for the Lord of the Rings movies or the Dune films. \n",
            "\n",
            "To get the information you're looking for, we would need to correct the SQL query and successfully execute it. Once we have the correct results, I'd be happy to analyze and summarize the data for you.\n",
            "\n",
            "Is there any way you could verify the table names and provide a corrected SQL query? Once we have valid results, I can provide a meaningful analysis of the movie ratings and review counts.\n",
            "=== LLM Response ===\n",
            "I apologize for the inconvenience. It seems that we're having some issues with the SQL query. Let's try a different approach by querying each movie individually to see if we can get some information. We'll start with one movie from each series:\n",
            "=== Calling Function ===\n",
            "Calling function: sql-query with args: {\"input\": \"SELECT AVG(rating) AS avg_rating, COUNT(*) AS review_count FROM `The Lord of the Rings: The Fellowship of the Ring`\"}\n",
            "=== Function Output ===\n",
            "I apologize, but I'm unable to provide a specific response based on the query results, as there was an error executing the SQL statement. The error message indicates that the SQL query is invalid.\n",
            "\n",
            "The query appears to be attempting to calculate the average rating and count the number of reviews for the movie \"The Lord of the Rings: The Fellowship of the Ring\". However, without access to the actual database structure and without a valid SQL query, I cannot provide accurate information.\n",
            "\n",
            "To properly answer questions about this movie's ratings and review count, we would need:\n",
            "\n",
            "1. A valid SQL query\n",
            "2. Access to the correct database\n",
            "3. A table containing review data for the movie\n",
            "\n",
            "If you have the correct table name and database structure, you may want to try reformulating the query. A typical valid SQL query for this kind of information might look like:\n",
            "\n",
            "```sql\n",
            "SELECT AVG(rating) AS avg_rating, COUNT(*) AS review_count \n",
            "FROM movie_reviews\n",
            "WHERE movie_title = 'The Lord of the Rings: The Fellowship of the Ring';\n",
            "```\n",
            "\n",
            "This assumes there's a table called \"movie_reviews\" with columns for \"rating\" and \"movie_title\". The actual table and column names would need to match your specific database structure.\n",
            "\n",
            "Without the correct data, I can only speak generally about the movie. \"The Lord of the Rings: The Fellowship of the Ring\" is a highly regarded film that typically receives positive reviews, but I cannot provide specific rating information or review counts based on the given query.\n"
          ]
        },
        {
          "name": "stderr",
          "output_type": "stream",
          "text": [
            "\u001b[34m\u001b[1mwandb\u001b[0m: Logged trace tree to W&B.\n"
          ]
        },
        {
          "name": "stdout",
          "output_type": "stream",
          "text": [
            "=== LLM Response ===\n",
            "I apologize once again for the difficulties we're encountering with the SQL queries. It seems that we're unable to directly access or query the database as we initially thought. Given these limitations, I'll provide a comparison of the Lord of the Rings and Dune series based on generally available information, rather than specific data from the database we were trying to query.\n",
            "\n",
            "Lord of the Rings series:\n",
            "1. The Lord of the Rings trilogy, directed by Peter Jackson, is widely regarded as one of the most successful and critically acclaimed film series of all time.\n",
            "2. All three films (The Fellowship of the Ring, The Two Towers, and The Return of the King) received high praise from both critics and audiences.\n",
            "3. The Return of the King, the final installment, won 11 Academy Awards, including Best Picture, tying the record for most Oscars won by a single film.\n",
            "4. On aggregate review sites like Rotten Tomatoes and Metacritic, all three films consistently score above 90%, indicating universal acclaim.\n",
            "\n",
            "Dune series:\n",
            "1. The Dune series we're likely referring to includes the 2021 film \"Dune\" (also known as \"Dune: Part One\") and its sequel \"Dune: Part Two\" (2024), both directed by Denis Villeneuve.\n",
            "2. \"Dune\" (2021) was very well-received by critics and audiences, praised for its visual spectacle and faithful adaptation of the source material.\n",
            "3. On aggregate review sites, \"Dune\" (2021) typically scores in the 80-90% range, indicating very positive reviews, though slightly lower than the Lord of the Rings films.\n",
            "4. \"Dune: Part Two\" (2024) has also been highly praised upon its release, with many critics considering it an improvement over the first part.\n",
            "\n",
            "Comparison:\n",
            "1. Critical Reception: Both series are critically acclaimed, but the Lord of the Rings trilogy generally edges out Dune in terms of overall critical consensus and awards recognition.\n",
            "2. Audience Reception: Both series are beloved by audiences, but the Lord of the Rings has had more time to build a larger and more dedicated fanbase.\n",
            "3. Cultural Impact: The Lord of the Rings trilogy has had a more significant cultural impact, largely due to its earlier release and\n"
          ]
        }
      ],
      "source": [
        "response = agent.chat(\"What movie series has better reviews, Lord of the Rings or Dune?\")"
      ]
    },
    {
      "cell_type": "code",
      "execution_count": null,
      "metadata": {
        "colab": {
          "base_uri": "https://localhost:8080/"
        },
        "id": "qxDA2Gjm7dDZ",
        "outputId": "ab5bfa6c-0dc1-474f-f3d2-36db8d3abb74"
      },
      "outputs": [
        {
          "name": "stdout",
          "output_type": "stream",
          "text": [
            "I apologize once again for the difficulties we're encountering with the SQL queries. It seems that we're unable to directly access or query the database as we initially thought. Given these limitations, I'll provide a comparison of the Lord of the Rings and Dune series based on generally available information, rather than specific data from the database we were trying to query.\n",
            "\n",
            "Lord of the Rings series:\n",
            "1. The Lord of the Rings trilogy, directed by Peter Jackson, is widely regarded as one of the most successful and critically acclaimed film series of all time.\n",
            "2. All three films (The Fellowship of the Ring, The Two Towers, and The Return of the King) received high praise from both critics and audiences.\n",
            "3. The Return of the King, the final installment, won 11 Academy Awards, including Best Picture, tying the record for most Oscars won by a single film.\n",
            "4. On aggregate review sites like Rotten Tomatoes and Metacritic, all three films consistently score above 90%, indicating universal acclaim.\n",
            "\n",
            "Dune series:\n",
            "1. The Dune series we're likely referring to includes the 2021 film \"Dune\" (also known as \"Dune: Part One\") and its sequel \"Dune: Part Two\" (2024), both directed by Denis Villeneuve.\n",
            "2. \"Dune\" (2021) was very well-received by critics and audiences, praised for its visual spectacle and faithful adaptation of the source material.\n",
            "3. On aggregate review sites, \"Dune\" (2021) typically scores in the 80-90% range, indicating very positive reviews, though slightly lower than the Lord of the Rings films.\n",
            "4. \"Dune: Part Two\" (2024) has also been highly praised upon its release, with many critics considering it an improvement over the first part.\n",
            "\n",
            "Comparison:\n",
            "1. Critical Reception: Both series are critically acclaimed, but the Lord of the Rings trilogy generally edges out Dune in terms of overall critical consensus and awards recognition.\n",
            "2. Audience Reception: Both series are beloved by audiences, but the Lord of the Rings has had more time to build a larger and more dedicated fanbase.\n",
            "3. Cultural Impact: The Lord of the Rings trilogy has had a more significant cultural impact, largely due to its earlier release and\n"
          ]
        }
      ],
      "source": [
        "print(str(response))"
      ]
    },
    {
      "cell_type": "markdown",
      "metadata": {
        "id": "-2LOixbcSWAD"
      },
      "source": [
        "### Task 2: Combined RAG Pipeline\n",
        "\n",
        "Now, we can simply add our tools into the `OpenAIAgent`, and off we go!"
      ]
    },
    {
      "cell_type": "code",
      "execution_count": null,
      "metadata": {
        "id": "uxFHM2l2SWAD"
      },
      "outputs": [],
      "source": [
        "combined_tool_agent_worker = FunctionCallingAgentWorker.from_tools(\n",
        "    tools=[auto_retrieve_tool, sql_tool],\n",
        "    verbose=True\n",
        ")\n",
        "\n",
        "combined_tool_agent = combined_tool_agent_worker.as_agent()"
      ]
    },
    {
      "cell_type": "code",
      "execution_count": null,
      "metadata": {
        "colab": {
          "base_uri": "https://localhost:8080/"
        },
        "id": "mYVHuBf9SWAD",
        "outputId": "286e742b-7aac-4306-c0c7-da62dd3519dc"
      },
      "outputs": [
        {
          "name": "stdout",
          "output_type": "stream",
          "text": [
            "Added user message to memory: Which movie is about a ring, and what is the average rating of the movie?\n",
            "=== LLM Response ===\n",
            "To answer your question, we'll need to use two different tools. First, we'll use the semantic film info tool to find out which movie is about a ring, and then we'll use the SQL query tool to get the average rating for that movie.\n",
            "\n",
            "Let's start with finding the movie about a ring:\n",
            "=== Calling Function ===\n",
            "Calling function: semantic-film-info with args: {\"query\": \"Which movie is about a ring?\", \"filter_key_list\": [], \"filter_value_list\": []}\n",
            "=== Function Output ===\n",
            "The movie that is about a ring is \"The Lord of the Rings: The Fellowship of the Ring.\" This 2001 epic fantasy adventure film, directed by Peter Jackson, tells the story of a powerful ring sought by the Dark Lord Sauron. The plot revolves around a young hobbit named Frodo Baggins who inherits this ring and must embark on a perilous journey with eight companions to destroy it in Mount Doom, the only place where it can be destroyed. The fate of Middle-earth hangs in the balance as they undertake this quest to prevent the ring from falling into Sauron's hands and allowing him to return to power.\n",
            "=== LLM Response ===\n",
            "Now that we know the movie about a ring is \"The Lord of the Rings: The Fellowship of the Ring,\" let's find out its average rating:\n",
            "=== Calling Function ===\n",
            "Calling function: sql-query with args: {\"input\": \"What is the average rating of \\\"The Lord of the Rings: The Fellowship of the Ring\\\"?\"}\n",
            "=== Function Output ===\n",
            "Based on the SQL query results, the average rating of \"The Lord of the Rings: The Fellowship of the Ring\" is approximately 9.87 out of 10. This extremely high rating indicates that the movie is very highly regarded by viewers and critics alike. The Fellowship of the Ring, being the first installment in The Lord of the Rings trilogy, has clearly made a significant impact and is considered an exceptional film by those who have rated it.\n"
          ]
        },
        {
          "name": "stderr",
          "output_type": "stream",
          "text": [
            "\u001b[34m\u001b[1mwandb\u001b[0m: Logged trace tree to W&B.\n"
          ]
        },
        {
          "name": "stdout",
          "output_type": "stream",
          "text": [
            "=== LLM Response ===\n",
            "Now, I can answer your question completely:\n",
            "\n",
            "The movie about a ring is \"The Lord of the Rings: The Fellowship of the Ring.\" This movie is the first installment in The Lord of the Rings trilogy, directed by Peter Jackson. It tells the story of Frodo Baggins and his quest to destroy a powerful ring sought by the Dark Lord Sauron.\n",
            "\n",
            "The average rating of \"The Lord of the Rings: The Fellowship of the Ring\" is approximately 9.87 out of 10. This exceptionally high rating suggests that the movie is widely loved and critically acclaimed, considered a masterpiece in the fantasy genre.\n"
          ]
        }
      ],
      "source": [
        "response = combined_tool_agent.chat(\"Which movie is about a ring, and what is the average rating of the movie?\")"
      ]
    },
    {
      "cell_type": "code",
      "execution_count": null,
      "metadata": {
        "colab": {
          "base_uri": "https://localhost:8080/"
        },
        "id": "k0w0VbomSWAD",
        "outputId": "5f67e404-cd96-4554-813a-44311cc26c5b"
      },
      "outputs": [
        {
          "name": "stdout",
          "output_type": "stream",
          "text": [
            "Now, I can answer your question completely:\n",
            "\n",
            "The movie about a ring is \"The Lord of the Rings: The Fellowship of the Ring.\" This movie is the first installment in The Lord of the Rings trilogy, directed by Peter Jackson. It tells the story of Frodo Baggins and his quest to destroy a powerful ring sought by the Dark Lord Sauron.\n",
            "\n",
            "The average rating of \"The Lord of the Rings: The Fellowship of the Ring\" is approximately 9.87 out of 10. This exceptionally high rating suggests that the movie is widely loved and critically acclaimed, considered a masterpiece in the fantasy genre.\n"
          ]
        }
      ],
      "source": [
        "print(str(response))"
      ]
    },
    {
      "cell_type": "code",
      "execution_count": null,
      "metadata": {
        "colab": {
          "base_uri": "https://localhost:8080/"
        },
        "id": "BJvN-vtJSWAD",
        "outputId": "3ddeb5fa-d277-4e9d-f368-402eec05b598"
      },
      "outputs": [
        {
          "name": "stdout",
          "output_type": "stream",
          "text": [
            "Added user message to memory: What worlds do the LoTR, and Dune movies take place in?\n",
            "=== LLM Response ===\n",
            "To answer this question, we'll need to use the semantic film info tool to gather information about the worlds in which the Lord of the Rings (LoTR) and Dune movies take place. We'll make two separate queries, one for each franchise.\n",
            "=== Calling Function ===\n",
            "Calling function: semantic-film-info with args: {\"query\": \"What world do the Lord of the Rings movies take place in?\", \"filter_key_list\": [\"title\"], \"filter_value_list\": [\"The Lord of the Rings: The Fellowship of the Ring\"]}\n",
            "=== Function Output ===\n",
            "The Lord of the Rings movies take place in a world called Middle-earth. This fantasy realm is the setting for the epic adventure that unfolds in the film, where various races including hobbits, elves, dwarves, and men face the threat of the Dark Lord Sauron. The story follows Frodo Baggins and his companions as they embark on a perilous journey across Middle-earth to destroy the One Ring and prevent Sauron from regaining his full power.\n",
            "=== LLM Response ===\n",
            "Now, let's find out about the world of the Dune movies:\n",
            "=== Calling Function ===\n",
            "Calling function: semantic-film-info with args: {\"query\": \"What world do the Dune movies take place in?\", \"filter_key_list\": [\"title\"], \"filter_value_list\": [\"Dune (2021 film)\"]}\n",
            "=== Function Output ===\n",
            "The Dune movies take place in a distant future universe, primarily on the planet Arrakis. Arrakis is a harsh desert planet that is the sole source of a valuable substance called \"spice.\" The story also involves other planets such as Caladan, ruled by House Atreides, and Giedi Prime, the home of House Harkonnen. This universe features interstellar travel, noble houses, and complex political and religious systems. The film depicts a rich, intricate world with advanced technology, mystical abilities, and dangerous creatures like the giant sandworms of Arrakis.\n"
          ]
        },
        {
          "name": "stderr",
          "output_type": "stream",
          "text": [
            "\u001b[34m\u001b[1mwandb\u001b[0m: Logged trace tree to W&B.\n"
          ]
        },
        {
          "name": "stdout",
          "output_type": "stream",
          "text": [
            "=== LLM Response ===\n",
            "Now, I can provide a comprehensive answer to your question:\n",
            "\n",
            "1. The Lord of the Rings (LoTR) movies:\n",
            "   The LoTR movies take place in a world called Middle-earth. This is a fantasy realm created by J.R.R. Tolkien, featuring various races such as hobbits, elves, dwarves, and men. The story unfolds across different regions of Middle-earth as the characters embark on their quest to destroy the One Ring and defeat the Dark Lord Sauron.\n",
            "\n",
            "2. The Dune movies:\n",
            "   The Dune movies are set in a distant future universe, with the primary focus on the planet Arrakis. However, the Dune universe is vast and includes multiple planets:\n",
            "\n",
            "   - Arrakis: Also known as Dune, this is a harsh desert planet and the only source of the valuable substance called \"spice.\"\n",
            "   - Caladan: The homeworld of House Atreides before they move to Arrakis.\n",
            "   - Giedi Prime: The homeworld of House Harkonnen.\n",
            "\n",
            "   This universe features interstellar travel, complex political systems involving noble houses, advanced technology, and unique elements like the giant sandworms of Arrakis.\n",
            "\n",
            "Both franchises create rich, detailed worlds for their stories, but they are vastly different in nature. Middle-earth is a fantasy world with magical elements, while the Dune universe is a far-future science fiction setting with its own unique blend of advanced technology and mystical abilities.\n"
          ]
        }
      ],
      "source": [
        "response = combined_tool_agent.chat(\"What worlds do the LoTR, and Dune movies take place in?\")"
      ]
    },
    {
      "cell_type": "code",
      "execution_count": null,
      "metadata": {
        "colab": {
          "base_uri": "https://localhost:8080/"
        },
        "id": "F74wGv6NSWAD",
        "outputId": "a8c766d6-1984-47dc-dc6b-68fb95bc4af8"
      },
      "outputs": [
        {
          "name": "stdout",
          "output_type": "stream",
          "text": [
            "Now, I can provide a comprehensive answer to your question:\n",
            "\n",
            "1. The Lord of the Rings (LoTR) movies:\n",
            "   The LoTR movies take place in a world called Middle-earth. This is a fantasy realm created by J.R.R. Tolkien, featuring various races such as hobbits, elves, dwarves, and men. The story unfolds across different regions of Middle-earth as the characters embark on their quest to destroy the One Ring and defeat the Dark Lord Sauron.\n",
            "\n",
            "2. The Dune movies:\n",
            "   The Dune movies are set in a distant future universe, with the primary focus on the planet Arrakis. However, the Dune universe is vast and includes multiple planets:\n",
            "\n",
            "   - Arrakis: Also known as Dune, this is a harsh desert planet and the only source of the valuable substance called \"spice.\"\n",
            "   - Caladan: The homeworld of House Atreides before they move to Arrakis.\n",
            "   - Giedi Prime: The homeworld of House Harkonnen.\n",
            "\n",
            "   This universe features interstellar travel, complex political systems involving noble houses, advanced technology, and unique elements like the giant sandworms of Arrakis.\n",
            "\n",
            "Both franchises create rich, detailed worlds for their stories, but they are vastly different in nature. Middle-earth is a fantasy world with magical elements, while the Dune universe is a far-future science fiction setting with its own unique blend of advanced technology and mystical abilities.\n"
          ]
        }
      ],
      "source": [
        "print(str(response))"
      ]
    },
    {
      "cell_type": "code",
      "execution_count": null,
      "metadata": {
        "colab": {
          "base_uri": "https://localhost:8080/"
        },
        "id": "Lvat4hmkvn3N",
        "outputId": "213651e2-70da-41d3-893d-d4ad5eef59a9"
      },
      "outputs": [
        {
          "name": "stdout",
          "output_type": "stream",
          "text": [
            "Added user message to memory: Which of the following movie series is considered the 'best': Dune, or Lord of the Rings? Base your answer on both reviews, and non-review information.\n",
            "=== LLM Response ===\n",
            "To answer this question comprehensively, we'll need to gather information about both the Dune and Lord of the Rings movie series using our available tools. We'll look at review data as well as non-review information to make a comparison. Let's start by gathering some general information about both series, and then we'll look at the reviews.\n",
            "\n",
            "First, let's get some non-review information about both series:\n",
            "=== Calling Function ===\n",
            "Calling function: semantic-film-info with args: {\"query\": \"Compare the Dune and Lord of the Rings movie series in terms of their cultural impact, critical reception, and overall popularity.\", \"filter_key_list\": [], \"filter_value_list\": []}\n",
            "=== Function Output ===\n",
            "I apologize, but I do not have enough information in the given context to make a meaningful comparison between the Dune and Lord of the Rings movie series. The provided context only contains information about The Lord of the Rings films, specifically \"The Fellowship of the Ring\" and \"The Two Towers.\" There is no information about the Dune movies to allow for a comparison of their cultural impact, critical reception, or overall popularity.\n",
            "\n",
            "The context does indicate that The Lord of the Rings films were critically acclaimed and received numerous awards and accolades. \"The Fellowship of the Ring\" won four Academy Awards and was nominated for several others. It also received positive reviews from many critics and was recognized in various \"best of\" lists. \"The Two Towers\" was also very well-received, with critics praising its visual effects, battle scenes, and narrative construction.\n",
            "\n",
            "However, without similar information about the Dune series, I cannot provide a comparative analysis between the two franchises as requested in the query.\n",
            "=== LLM Response ===\n",
            "I apologize for the lack of comparative information. Let's try to gather specific information about each series separately, starting with Dune:\n",
            "=== Calling Function ===\n",
            "Calling function: semantic-film-info with args: {\"query\": \"Provide information about the Dune movie series, including its reception and cultural impact.\", \"filter_key_list\": [\"title\"], \"filter_value_list\": [\"Dune (2021 film)\"]}\n",
            "=== Function Output ===\n",
            "The Dune movie series, based on Frank Herbert's novel, has made a significant impact in the film industry. The 2021 adaptation, directed by Denis Villeneuve, received generally positive reception upon its premiere at the Venice Film Festival.\n",
            "\n",
            "Critics praised the film's ambition, story, scope, worldbuilding, performances (particularly Timothée Chalamet and Rebecca Ferguson), and production values. The writing, cinematography, and Hans Zimmer's score were also highly regarded. Many reviewers likened it to high-quality blockbuster filmmaking, with some comparing it to Christopher Nolan's style.\n",
            "\n",
            "However, the film also faced some criticism. Some reviewers found the story incomplete and the pacing slow. The runtime and adaptation choices were also points of contention for certain critics.\n",
            "\n",
            "The movie's cultural impact has been notable, sparking discussions about representation and cultural appropriation. Some commentators and academics criticized the film for neglecting Arabian and Islamic elements that influenced the original novel, and for the lack of Middle Eastern and North African (MENA) actors in key roles.\n",
            "\n",
            "The film's success led to the production of a sequel, Dune: Part Two, which was released in March 2024. There are also plans for a potential third film based on the novel \"Dune Messiah,\" which Villeneuve intends to serve as the conclusion of his Dune trilogy.\n",
            "\n",
            "The Dune series has garnered significant recognition in the film industry, receiving numerous award nominations and wins, including six Academy Awards. It was also ranked as one of the top ten films of 2021 by the American Film Institute, cementing its place in contemporary cinema.\n",
            "=== LLM Response ===\n",
            "Now, let's gather similar information about the Lord of the Rings series:\n",
            "=== Calling Function ===\n",
            "Calling function: semantic-film-info with args: {\"query\": \"Provide information about the Lord of the Rings movie series, including its reception and cultural impact.\", \"filter_key_list\": [\"title\"], \"filter_value_list\": [\"The Lord of the Rings: The Fellowship of the Ring\"]}\n",
            "=== Function Output ===\n",
            "The Lord of the Rings movie series, particularly \"The Fellowship of the Ring,\" has had a significant impact on cinema and popular culture. The first film in the trilogy was released in 2001 and was directed by Peter Jackson. It was a critical and commercial success, grossing over $868 million worldwide during its initial theatrical run.\n",
            "\n",
            "The movie received widespread acclaim for its visual effects, performances, direction, screenplay, musical score, and faithfulness to J.R.R. Tolkien's source material. It was praised as a landmark in filmmaking and a major achievement in the fantasy genre.\n",
            "\n",
            "The film's success was reflected in its numerous accolades. It won four Academy Awards out of thirteen nominations, including Best Cinematography, Best Visual Effects, Best Makeup, and Best Original Score. It also received recognition from other prestigious awards bodies, winning five BAFTAs and the Hugo Award for Best Dramatic Presentation.\n",
            "\n",
            "The cultural impact of the series has been substantial. The American Film Institute named \"The Fellowship of the Ring\" one of the 100 greatest American films in history, making it the most recent and only 21st-century film on that list at the time. In 2021, it was selected for preservation in the United States National Film Registry by the Library of Congress, acknowledging its cultural, historical, and aesthetic significance.\n",
            "\n",
            "However, it's worth noting that not all critics were entirely positive. Some found the film overly serious and self-important, and questioned the credibility of its fantasy universe.\n",
            "\n",
            "Despite any criticisms, the Lord of the Rings series has left an indelible mark on cinema and continues to be widely recognized as one of the greatest and most influential film series ever made. Its success paved the way for the two sequels, \"The Two Towers\" and \"The Return of the King,\" which were released in the following years and continued to build upon the trilogy's legacy.\n",
            "=== LLM Response ===\n",
            "Now, let's look at the review data for both series. We'll start with Dune:\n",
            "=== Calling Function ===\n",
            "Calling function: sql-query with args: {\"input\": \"What are the average ratings for the Dune movies?\"}\n",
            "=== Function Output ===\n",
            "Based on the query results, here are the average ratings for the Dune movies:\n",
            "\n",
            "1. Dune (2021 film): The average rating is approximately 8.34 out of 10.\n",
            "2. Dune: Part Two: The average rating is approximately 8.71 out of 10.\n",
            "\n",
            "Both movies have received high ratings, with Dune: Part Two slightly outperforming the first film. The sequel has an average rating that is about 0.37 points higher than its predecessor. These ratings suggest that both films have been well-received by audiences, with the second part garnering even more positive feedback.\n",
            "=== LLM Response ===\n",
            "Now, let's check the ratings for the Lord of the Rings movies:\n",
            "=== Calling Function ===\n",
            "Calling function: sql-query with args: {\"input\": \"What are the average ratings for the Lord of the Rings movies?\"}\n",
            "=== Function Output ===\n",
            "Based on the SQL query results, here are the average ratings for two of the Lord of the Rings movies:\n",
            "\n",
            "1. The Lord of the Rings: The Fellowship of the Ring - Average Rating: 9.87 out of 10\n",
            "2. The Lord of the Rings: The Two Towers - Average Rating: 9.18 out of 10\n",
            "\n",
            "Both movies have received exceptionally high ratings, with \"The Fellowship of the Ring\" scoring slightly higher than \"The Two Towers\". It's worth noting that these ratings are remarkably high, indicating that both films were very well-received by viewers.\n",
            "\n",
            "The data for the third movie in the trilogy, \"The Return of the King\", is not included in the provided results. To get a complete picture of the average ratings for all Lord of the Rings movies, we would need that information as well.\n"
          ]
        },
        {
          "name": "stderr",
          "output_type": "stream",
          "text": [
            "\u001b[34m\u001b[1mwandb\u001b[0m: Logged trace tree to W&B.\n"
          ]
        },
        {
          "name": "stdout",
          "output_type": "stream",
          "text": [
            "=== LLM Response ===\n",
            "Now, to answer your question about which movie series is considered the 'best' between Dune and Lord of the Rings, based on both reviews and non-review information:\n",
            "\n",
            "1. Critical Reception and Awards:\n",
            "   - Lord of the Rings: The series, particularly \"The Fellowship of the Ring,\" received widespread acclaim. It won numerous awards, including four Academy Awards for the first film alone. The series is considered a landmark in filmmaking and a major achievement in the fantasy genre.\n",
            "   - Dune: The 2021 film and its sequel have also received positive reception, with critics praising various aspects including performances, visuals, and score. The first film won six Academy Awards, showing strong recognition in the industry.\n",
            "\n",
            "2. Cultural Impact:\n",
            "   - Lord of the Rings: The series has had a massive cultural impact. \"The Fellowship of the Ring\" was named one of the 100 greatest American films in history by the American Film Institute and was selected for preservation in the United States National Film Registry.\n",
            "   - Dune: While significant, the cultural impact of the new Dune series appears to be still developing. It has sparked important discussions about representation and cultural appropriation.\n",
            "\n",
            "3. Ratings:\n",
            "   - Lord of the Rings: The two films we have data for show extremely high average ratings (9.87 and 9.18 out of 10).\n",
            "   - Dune: Both Dune films have very good ratings (8.34 and 8.71 out of 10), but they are slightly lower than the Lord of the Rings films.\n",
            "\n",
            "4. Legacy:\n",
            "   - Lord of the Rings: The series is widely recognized as one of the greatest and most influential film series ever made.\n",
            "   - Dune: While highly regarded, the new Dune series is still in the process of building its legacy, with plans for a third film.\n",
            "\n",
            "Conclusion:\n",
            "Based on the available information, the Lord of the Rings series is generally considered the 'best' between the two. It has a longer-standing legacy, higher average ratings, more significant cultural impact, and more extensive critical acclaim. However, it's important to note that:\n",
            "\n",
            "1. The Dune series is more recent and still ongoing, so its full impact may not yet be realized.\n",
            "2. Both series are highly regarded and have their own unique streng\n"
          ]
        }
      ],
      "source": [
        "response = combined_tool_agent.chat(\"Which of the following movie series is considered the 'best': Dune, or Lord of the Rings? Base your answer on both reviews, and non-review information.\")"
      ]
    },
    {
      "cell_type": "code",
      "execution_count": null,
      "metadata": {
        "colab": {
          "base_uri": "https://localhost:8080/"
        },
        "id": "BEOpeuAovtZM",
        "outputId": "8c2e7d42-dfc7-4453-865a-58bd534b3b1e"
      },
      "outputs": [
        {
          "name": "stdout",
          "output_type": "stream",
          "text": [
            "Now, to answer your question about which movie series is considered the 'best' between Dune and Lord of the Rings, based on both reviews and non-review information:\n",
            "\n",
            "1. Critical Reception and Awards:\n",
            "   - Lord of the Rings: The series, particularly \"The Fellowship of the Ring,\" received widespread acclaim. It won numerous awards, including four Academy Awards for the first film alone. The series is considered a landmark in filmmaking and a major achievement in the fantasy genre.\n",
            "   - Dune: The 2021 film and its sequel have also received positive reception, with critics praising various aspects including performances, visuals, and score. The first film won six Academy Awards, showing strong recognition in the industry.\n",
            "\n",
            "2. Cultural Impact:\n",
            "   - Lord of the Rings: The series has had a massive cultural impact. \"The Fellowship of the Ring\" was named one of the 100 greatest American films in history by the American Film Institute and was selected for preservation in the United States National Film Registry.\n",
            "   - Dune: While significant, the cultural impact of the new Dune series appears to be still developing. It has sparked important discussions about representation and cultural appropriation.\n",
            "\n",
            "3. Ratings:\n",
            "   - Lord of the Rings: The two films we have data for show extremely high average ratings (9.87 and 9.18 out of 10).\n",
            "   - Dune: Both Dune films have very good ratings (8.34 and 8.71 out of 10), but they are slightly lower than the Lord of the Rings films.\n",
            "\n",
            "4. Legacy:\n",
            "   - Lord of the Rings: The series is widely recognized as one of the greatest and most influential film series ever made.\n",
            "   - Dune: While highly regarded, the new Dune series is still in the process of building its legacy, with plans for a third film.\n",
            "\n",
            "Conclusion:\n",
            "Based on the available information, the Lord of the Rings series is generally considered the 'best' between the two. It has a longer-standing legacy, higher average ratings, more significant cultural impact, and more extensive critical acclaim. However, it's important to note that:\n",
            "\n",
            "1. The Dune series is more recent and still ongoing, so its full impact may not yet be realized.\n",
            "2. Both series are highly regarded and have their own unique streng\n"
          ]
        }
      ],
      "source": [
        "print(str(response))"
      ]
    },
    {
      "cell_type": "code",
      "execution_count": null,
      "metadata": {
        "id": "D3ELqzOvSWAD"
      },
      "outputs": [],
      "source": [
        "wandb_callback.finish()"
      ]
    }
  ],
  "metadata": {
    "colab": {
      "provenance": []
    },
    "kernelspec": {
      "display_name": "Python 3",
      "language": "python",
      "name": "python3"
    },
    "language_info": {
      "codemirror_mode": {
        "name": "ipython",
        "version": 3
      },
      "file_extension": ".py",
      "mimetype": "text/x-python",
      "name": "python",
      "nbconvert_exporter": "python",
      "pygments_lexer": "ipython3",
      "version": "3.9.18"
    },
    "orig_nbformat": 4
  },
  "nbformat": 4,
  "nbformat_minor": 0
}